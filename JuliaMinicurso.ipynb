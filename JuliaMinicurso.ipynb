{
 "cells": [
  {
   "cell_type": "markdown",
   "source": [
    "# Mini Curso: Introdução a Otimização Combinatória utilizando a linguagem de programação Julia"
   ],
   "metadata": {}
  },
  {
   "cell_type": "markdown",
   "source": [
    "## Pacotes essenciais"
   ],
   "metadata": {}
  },
  {
   "cell_type": "code",
   "execution_count": null,
   "source": [
    "using Pkg \r\n",
    "Pkg.add(\"LightGraphs\")\r\n",
    "Pkg.add(\"GLPK\")\r\n",
    "Pkg.add(\"LinearAlgebra\") \r\n",
    "Pkg.add(\"JuMP\")\r\n",
    "\r\n",
    "\r\n",
    "using LightGraphs, GLPK, LinearAlgebra, JuMP"
   ],
   "outputs": [],
   "metadata": {}
  },
  {
   "cell_type": "markdown",
   "source": [
    "## Resolvendo problemas de otimização"
   ],
   "metadata": {}
  },
  {
   "cell_type": "markdown",
   "source": [
    "Exemplo 1.1 (Wolsey 1998):\r\n",
    "\r\n",
    "$$\r\n",
    "    \\begin{array}{r}\r\n",
    "        \\max \\quad x_1 + 0.64x_2 \\\\\r\n",
    "        \\text { s.t. } \\quad 50x_1 + 31x_2 \\leq 250 \\\\\r\n",
    "        3x_1 - 2x_2 \\geq -4 \\\\\r\n",
    "        x_1, x_2 \\geq 0, \\text { and interger } \\\\\r\n",
    "    \\end{array}\r\n",
    "$$"
   ],
   "metadata": {}
  },
  {
   "cell_type": "markdown",
   "source": [
    "## Resolvendo problemas de otimização: Problema de Atribuição"
   ],
   "metadata": {}
  },
  {
   "cell_type": "markdown",
   "source": [
    "- $n$ pessoas para executar $n$ tarefas distintas\r\n",
    "- Cada pessoa deve executar uma única tarefa\r\n",
    "- Algumas pessoas são mais aptas a executar certas tarefas.\r\n",
    "- $c_{ij}:$ custo estimado para o indivíduo $i$ executar a tarefa $j$\r\n",
    "  \r\n",
    "**Objetivo:** atribuir tarefas a pessoas, ao menor custo possível."
   ],
   "metadata": {}
  },
  {
   "cell_type": "code",
   "execution_count": null,
   "source": [
    "c = [0 20 15 12 13\r\n",
    "23 0 23 13 17\r\n",
    "18 12 0 11 12\r\n",
    "23 32 12 0 22\r\n",
    "21 25 26 28 0]\r\n",
    "\r\n",
    "n = 5"
   ],
   "outputs": [],
   "metadata": {}
  },
  {
   "cell_type": "code",
   "execution_count": 4,
   "source": [
    "model = Model(GLPK.Optimizer)"
   ],
   "outputs": [
    {
     "output_type": "execute_result",
     "data": {
      "text/latex": [
       "$$ \\begin{alignat*}{1}\\text{feasibility}\\\\\n",
       "\\text{Subject to} \\quad\\end{alignat*}\n",
       " $$"
      ],
      "text/plain": [
       "A JuMP Model\n",
       "Feasibility problem with:\n",
       "Variables: 0\n",
       "Model mode: AUTOMATIC\n",
       "CachingOptimizer state: EMPTY_OPTIMIZER\n",
       "Solver name: GLPK"
      ]
     },
     "metadata": {},
     "execution_count": 4
    }
   ],
   "metadata": {}
  },
  {
   "cell_type": "markdown",
   "source": [
    "$\\displaystyle x_{ij} \\in \\{0,1\\}:$ atribuição da tarefa $j$ a pessoa $i$."
   ],
   "metadata": {}
  },
  {
   "cell_type": "code",
   "execution_count": null,
   "source": [
    "@variable(model, x[i in 1:n, j in 1:n], Bin)"
   ],
   "outputs": [],
   "metadata": {}
  },
  {
   "cell_type": "markdown",
   "source": [
    "O custo das atribuições deve ser minimizado:\r\n",
    "\r\n",
    "$$\\textrm{min } \\sum_{i=1}^n \\sum_{j=1}^n c_{ij}x_{ij}$$"
   ],
   "metadata": {}
  },
  {
   "cell_type": "code",
   "execution_count": null,
   "source": [
    "@objective(model, Min, sum(c[i,j]*x[i,j] for i in 1:n, j in 1:n if i != j))"
   ],
   "outputs": [],
   "metadata": {}
  },
  {
   "cell_type": "markdown",
   "source": [
    "Cada pessoa deve efetuar uma única tarefa:\r\n",
    "$$\\sum_{j=1}^n x_{ij} = 1 \\quad \\forall i= 1, \\dots, n$$"
   ],
   "metadata": {}
  },
  {
   "cell_type": "code",
   "execution_count": null,
   "source": [
    "@constraint(model, job[j in 1:n], sum(x[i,j] for i in 1:n if i!=j) == 1)"
   ],
   "outputs": [],
   "metadata": {}
  },
  {
   "cell_type": "markdown",
   "source": [
    "Cada tarefa será efetuada por uma única pessoa:\r\n",
    "$$\\sum_{i=1}^n x_{ij} = 1 \\quad \\forall j = 1, \\dots, n$$"
   ],
   "metadata": {}
  },
  {
   "cell_type": "code",
   "execution_count": null,
   "source": [
    "#Restrições\r\n",
    "@constraint(model, pessoa[i in 1:n], sum(x[i,j] for j in 1:n if i != j) == 1)"
   ],
   "outputs": [],
   "metadata": {}
  },
  {
   "cell_type": "code",
   "execution_count": null,
   "source": [
    "optimize!(model)"
   ],
   "outputs": [],
   "metadata": {}
  },
  {
   "cell_type": "code",
   "execution_count": null,
   "source": [
    "for i in 1:n\r\n",
    "    for j in 1:n\r\n",
    "        if value(x[i,j]) == 1\r\n",
    "            println(\"Pessoa \", i, \" foi atribuída ao trabalho: \", j, \" com custo: \", c[i,j])\r\n",
    "        end\r\n",
    "    end\r\n",
    "end\r\n",
    "println(\"O custo ótimo foi: \", objective_value(model))"
   ],
   "outputs": [],
   "metadata": {}
  },
  {
   "cell_type": "markdown",
   "source": [
    "## Resolvendo problemas de otimização: N-Rainhas"
   ],
   "metadata": {}
  },
  {
   "cell_type": "markdown",
   "source": [
    "<p align=\"center\">\r\n",
    "  <img src=\"images//n-rainhas.png\" />\r\n",
    "</p>\r\n",
    "\r\n"
   ],
   "metadata": {}
  },
  {
   "cell_type": "markdown",
   "source": [
    "![](nquee.png)"
   ],
   "metadata": {}
  },
  {
   "cell_type": "code",
   "execution_count": null,
   "source": [
    "using GLPK\r\n",
    "using JuMP\r\n",
    "using LinearAlgebra\r\n",
    "\r\n",
    "# N-Queens\r\n",
    "N = 4\r\n",
    "\r\n",
    "model = Model(GLPK.Optimizer);"
   ],
   "outputs": [],
   "metadata": {}
  },
  {
   "cell_type": "markdown",
   "source": [
    "Variável $X_{ij} \\in \\{0,1\\}:$ 1 se uma rainha estiver na posição $(i,j)$, 0 caso contrário. "
   ],
   "metadata": {}
  },
  {
   "cell_type": "code",
   "execution_count": null,
   "source": [
    "@variable(model, x[i=1:N, j=1:N], Bin)"
   ],
   "outputs": [],
   "metadata": {}
  },
  {
   "cell_type": "markdown",
   "source": [
    "$$\\displaystyle \\textrm{ max } \\sum_{i = 1} ^{N} \\sum_{j=1}^N X_{ij}$$"
   ],
   "metadata": {}
  },
  {
   "cell_type": "code",
   "execution_count": null,
   "source": [
    "@objective(model, Max, sum(x[i,j] for i in 1:N, j in 1:N))"
   ],
   "outputs": [],
   "metadata": {}
  },
  {
   "cell_type": "markdown",
   "source": [
    "Só podemos ter exatamente uma rainha na horizontal\r\n",
    "$$\\displaystyle  \\sum_{i = 1}^{N} X_{ij} \\leq 1 \\qquad j = 1, \\dots, N$$ "
   ],
   "metadata": {}
  },
  {
   "cell_type": "code",
   "execution_count": null,
   "source": [
    "@constraint(model, horizontal[j in 1:N], sum(x[i,j] for i in 1:N) <= 1)"
   ],
   "outputs": [],
   "metadata": {}
  },
  {
   "cell_type": "markdown",
   "source": [
    "Só podemos ter exatamente uma rainha na vertical\r\n",
    "$$\\displaystyle  \\sum_{j = 1}^{N} X_{ij} \\leq 1 \\qquad i = 1, \\dots, N$$ "
   ],
   "metadata": {}
  },
  {
   "cell_type": "code",
   "execution_count": null,
   "source": [
    "@constraint(model, vertical[i in 1:N], sum(x[i,j] for j in 1:N) <= 1)"
   ],
   "outputs": [],
   "metadata": {}
  },
  {
   "cell_type": "markdown",
   "source": [
    "Só podemos ter exatamente uma rainha na diagonal positiva \r\n",
    "$$\\displaystyle  \\underbrace{\\sum_{i = 1}^{N} \\sum_{j = 1}^{N}}_{i - j = k}  X_{ij} \\leq 1 \\qquad k = -(N-2), \\dots, N-2 \\quad $$ "
   ],
   "metadata": {}
  },
  {
   "cell_type": "code",
   "execution_count": null,
   "source": [
    "@constraint(model, diag_pos[k in -(N-2):(N-2)], sum(x[i,j] for i in 1:N, j in 1:N if (i-j) == k) <= 1)"
   ],
   "outputs": [],
   "metadata": {}
  },
  {
   "cell_type": "markdown",
   "source": [
    "Só podemos ter exatamente uma rainha na diagonal negativa\r\n",
    "\r\n",
    "$$\\displaystyle  \\underbrace{\\sum_{i = 1}^{N} \\sum_{j = 1}^{N}}_{i + j = k}  X_{ij} \\leq 1 \\qquad k = 3, \\dots, 2N-1 \\quad $$ "
   ],
   "metadata": {}
  },
  {
   "cell_type": "code",
   "execution_count": null,
   "source": [
    "@constraint(model, diag_neg[k in 3:2*(N-1)], sum(x[i,j] for i in 1:N, j in 1:N if (i + j) == k) <= 1)"
   ],
   "outputs": [],
   "metadata": {}
  },
  {
   "cell_type": "code",
   "execution_count": null,
   "source": [
    "optimize!(model)"
   ],
   "outputs": [],
   "metadata": {}
  },
  {
   "cell_type": "code",
   "execution_count": null,
   "source": [
    "println(\"Número de rainhas: \", objective_value(model))\r\n",
    "solution = convert.(Int,value.(x))"
   ],
   "outputs": [
    {
     "output_type": "execute_result",
     "data": {
      "text/plain": [
       "4×4 Array{Int64,2}:\n",
       " 0  1  0  0\n",
       " 0  0  0  1\n",
       " 1  0  0  0\n",
       " 0  0  1  0"
      ]
     },
     "metadata": {},
     "execution_count": 79
    }
   ],
   "metadata": {}
  },
  {
   "cell_type": "markdown",
   "source": [
    "![](images\\\\sol-8-queens.png)"
   ],
   "metadata": {}
  },
  {
   "cell_type": "markdown",
   "source": [
    "## Resolvendo problemas de otimização: Problema da Mochila 0-1"
   ],
   "metadata": {}
  },
  {
   "cell_type": "markdown",
   "source": [
    "### Agora é com você. Desafio!"
   ],
   "metadata": {}
  },
  {
   "cell_type": "markdown",
   "source": [
    "  - Temos uma mochila com uma capacidade máxima (peso máximo) dado por $W$\r\n",
    "  - Imagine que temos $n$ possíveis itens que podem entrar na mochila\r\n",
    "  - Cada item $i$ possui um peso $a_i$ específico e seu preço é $c_i$.\r\n",
    "\r\n",
    "**Objetivo: Selecionar um subconjunto de itens que dê o máximo retorno possível, isto é, que o custo total do que está dentro da mochila seja o maior possível!**"
   ],
   "metadata": {}
  },
  {
   "cell_type": "markdown",
   "source": [
    "**Variáveis**\r\n",
    "\r\n",
    "$x_i \\in \\{0,1\\}:$ pegar ou não o item $i$ para colocar na mochila"
   ],
   "metadata": {}
  },
  {
   "cell_type": "markdown",
   "source": [
    "**Função Objetivo**\r\n",
    "\r\n",
    "$$\\textrm{max } \\sum_{i=1}^n c_ix_i$$"
   ],
   "metadata": {}
  },
  {
   "cell_type": "markdown",
   "source": [
    "**Restrições**\r\n",
    "\r\n",
    "- Não é possível colocar mais itens do que a capacidade $W$ dada.\r\n",
    "\r\n",
    "$$\\sum_{i=1}^n a_ix_i \\leq W$$\r\n",
    "\r\n",
    "$$x_i \\in \\{0,1\\}$$"
   ],
   "metadata": {}
  },
  {
   "cell_type": "code",
   "execution_count": null,
   "source": [
    "n = 5 # Número de itens \r\n",
    "W = 50 # Peso máximo que a mochila pode carregar\r\n",
    "\r\n",
    "a = [20 12 17 13 17] # Capacidade de cada item\r\n",
    "c = [30 11 20 18 17] # Custo de cada item "
   ],
   "outputs": [],
   "metadata": {}
  }
 ],
 "metadata": {
  "kernelspec": {
   "display_name": "Julia 1.5.3",
   "language": "julia",
   "name": "julia-1.5"
  },
  "language_info": {
   "file_extension": ".jl",
   "mimetype": "application/julia",
   "name": "julia",
   "version": "1.5.3"
  },
  "toc": {
   "base_numbering": 1,
   "nav_menu": {},
   "number_sections": true,
   "sideBar": true,
   "skip_h1_title": false,
   "title_cell": "Table of Contents",
   "title_sidebar": "Contents",
   "toc_cell": false,
   "toc_position": {},
   "toc_section_display": true,
   "toc_window_display": false
  }
 },
 "nbformat": 4,
 "nbformat_minor": 4
}