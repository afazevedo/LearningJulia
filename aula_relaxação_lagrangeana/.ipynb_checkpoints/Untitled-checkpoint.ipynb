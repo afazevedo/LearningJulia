{
 "cells": [
  {
   "cell_type": "markdown",
   "id": "a2f767a1",
   "metadata": {},
   "source": [
    "Considere o modelo de p-mediana\n",
    "\n",
    "- $I = \\{1,\\dots, m\\}$: o conjunto de localidades disponíveis\n",
    "- $J = \\{1, \\dots, n\\}$: o conjunto de clientes para as localidades\n",
    "\n",
    "- $p$: número de localidades mínimas a serem abertas\n",
    "- $d_j$: o tamanho da demanda do cliente $j \\in J$\n",
    "- $c_{ij}$: o custo de transporte entre a localidade $i \\in I$ e o cliente $j \\in J$\n",
    "\n",
    "- $x_{ij}$: a fração de demanda do cliente $j \\in J$ atendida pela localidade $i \\in I$\n",
    "- $y_i$: vale 1 se a localidade é aberta na locação $i \\in I$, 0 caso contrário.\n",
    "\n",
    "\\begin{aligned}\n",
    "    Z^*=\\min & \\sum_{i \\in \\mathcal{I}} \\sum_{j \\in \\mathcal{J}} d_j c_{i j} x_{i j} \\\\\n",
    "    \\text { s.t. } & \\sum_{i \\in \\mathcal{I}} x_{i j}=1 \\quad \\forall j \\in \\mathcal{J} \\\\\n",
    "    & \\sum_{i \\in \\mathcal{I}} y_i=p \\\\\n",
    "    & x_{i j} \\leq y_i \\quad \\forall i \\in \\mathcal{I}, j \\in \\mathcal{J} \\\\\n",
    "    & y_i \\in\\{0,1\\} \\quad \\forall i \\in \\mathcal{I} \\\\\n",
    "    & x_{i j} \\geq 0 \\quad \\forall i \\in \\mathcal{I}, j \\in \\mathcal{J}\n",
    "\\end{aligned}\n",
    "\n",
    "\n",
    "Vamos dualizar o primeiro conjunto de restrições, multiplicando por $\\{\\lambda_j \\geq 0: j \\in N\\}$ à cada restrição"
   ]
  },
  {
   "cell_type": "markdown",
   "id": "ca8cb7fe",
   "metadata": {},
   "source": [
    "Resultando no seguinte subproblema lagrangeano:\n",
    "\n",
    "\\begin{aligned}\n",
    "    Z_D(\\lambda)=\\min & \\sum_{i \\in \\mathcal{I}} \\sum_{j \\in \\mathcal{J}} d_j c_{i j} x_{i j}+\\sum_{j \\in \\mathcal{J}} \\lambda_j\\left(1-\\sum_{i \\in \\mathcal{I}} x_{i j}\\right) \\\\\n",
    "    =\\min & \\sum_{i \\in \\mathcal{I}} \\sum_{j \\in \\mathcal{J}}\\left(d_j c_{i j}-\\lambda_j\\right) x_{i j}+\\sum_{j \\in \\mathcal{J}} \\lambda_j \\\\\n",
    "    \\text { s.t. } & \\sum_{i \\in \\mathcal{I}} y_i=p \\\\\n",
    "    & x_{i j} \\leq y_i \\quad \\forall i \\in \\mathcal{I}, j \\in \\mathcal{J} \\\\\n",
    "    & y_i \\in\\{0,1\\} \\quad \\forall i \\in \\mathcal{I} \\\\\n",
    "    & x_{i j} \\geq 0 \\quad \\forall i \\in \\mathcal{I}, j \\in \\mathcal{J}\n",
    "\\end{aligned}"
   ]
  },
  {
   "cell_type": "markdown",
   "id": "f2fcdd03",
   "metadata": {},
   "source": [
    "### Instância"
   ]
  },
  {
   "cell_type": "code",
   "execution_count": 50,
   "id": "7e2bda22",
   "metadata": {},
   "outputs": [
    {
     "data": {
      "text/plain": [
       "1×10 Matrix{Int64}:\n",
       " 10  6  20  32  15  28  3  19  8  1"
      ]
     },
     "execution_count": 50,
     "metadata": {},
     "output_type": "execute_result"
    }
   ],
   "source": [
    "d = [10 6 20 32 15 28 3 19 8 1]"
   ]
  },
  {
   "cell_type": "code",
   "execution_count": 51,
   "id": "62ae4897",
   "metadata": {},
   "outputs": [
    {
     "data": {
      "text/plain": [
       "8×10 Matrix{Int64}:\n",
       " 10   6  20  32  15  28   3  19   8  13\n",
       " 10   7  11  12  32  15  20  26   4  41\n",
       " 13  17  31  37  21   5  13  15  14  12\n",
       "  4  13  14  22   8  31  26  11  12  23\n",
       " 21  21  13  18   9  27  11  16  26  32\n",
       " 32  18  11  14  11  11  16  32  34   8\n",
       " 15   9  13  12  14  15  32   8  12   9\n",
       " 28  32  15   2  17  12   9   6  11   6"
      ]
     },
     "execution_count": 51,
     "metadata": {},
     "output_type": "execute_result"
    }
   ],
   "source": [
    "c = [\n",
    "10 6 20 32 15 28 3 19 8 13\n",
    "10 7 11 12 32 15 20 26 4 41\n",
    "13 17 31 37 21 5 13 15 14 12\n",
    "4 13 14 22 8 31 26 11 12 23\n",
    "21 21 13 18 9 27 11 16 26 32\n",
    "32 18 11 14 11 11 16 32 34 8\n",
    "15 9 13 12 14 15 32 8 12 9\n",
    "28 32 15 2 17 12 9 6 11 6  \n",
    "]"
   ]
  },
  {
   "cell_type": "code",
   "execution_count": 52,
   "id": "09422431",
   "metadata": {},
   "outputs": [
    {
     "data": {
      "text/plain": [
       "3"
      ]
     },
     "execution_count": 52,
     "metadata": {},
     "output_type": "execute_result"
    }
   ],
   "source": [
    "p = 3"
   ]
  },
  {
   "cell_type": "code",
   "execution_count": 53,
   "id": "5ffdb099",
   "metadata": {},
   "outputs": [
    {
     "data": {
      "text/plain": [
       "1:10"
      ]
     },
     "execution_count": 53,
     "metadata": {},
     "output_type": "execute_result"
    }
   ],
   "source": [
    "locations = 1:size(c,1) # the set, I\n",
    "customers = 1:length(d) # the set, J"
   ]
  },
  {
   "cell_type": "code",
   "execution_count": 54,
   "id": "70662f7f",
   "metadata": {
    "collapsed": true
   },
   "outputs": [
    {
     "data": {
      "text/plain": [
       "optimal (generic function with 1 method)"
      ]
     },
     "execution_count": 54,
     "metadata": {},
     "output_type": "execute_result"
    }
   ],
   "source": [
    "using JuMP, Gurobi\n",
    "\n",
    "function optimal(p)\n",
    "    m = Model(Gurobi.Optimizer)\n",
    "\n",
    "    @variable(m, x[i in locations, j in customers] >= 0)\n",
    "    @variable(m, y[i in locations], Bin)\n",
    "\n",
    "    @objective(m, Min, sum( d[j]*c[i,j]*x[i,j]\n",
    "                     for i in locations, j in customers) )\n",
    "\n",
    "    @constraint(m, [j in customers], sum( x[i,j] for i in locations) == 1)\n",
    "    @constraint(m, sum( y[i] for i in locations) == p)\n",
    "    @constraint(m, [i in locations, j in customers], x[i,j] <= y[i] )\n",
    "\n",
    "    JuMP.optimize!(m)\n",
    "\n",
    "    Z_opt = JuMP.objective_value(m)\n",
    "    x_opt = JuMP.value.(x)\n",
    "    y_opt = JuMP.value.(y)\n",
    "\n",
    "    return Z_opt, x_opt, y_opt\n",
    "end"
   ]
  },
  {
   "cell_type": "markdown",
   "id": "4ef23878",
   "metadata": {},
   "source": [
    "### Encontrando Lower Bounds"
   ]
  },
  {
   "cell_type": "markdown",
   "id": "a0b8d4d1",
   "metadata": {},
   "source": [
    "Este subproblema lagrangeano tem uma estrutura especial que faz com que seja mais fácil de resolver. Como relaxamos o primeiro conjunto de restrições, não precisamos nos importar em atribuir demanda à todos os clientes.\n",
    "\n",
    "Dessa forma, basta seguirmos o seguinte algoritmo para resolver por inspeção:\n",
    "\n",
    "1. Para cada $i \\in I$, vamos computar $v_i = \\sum_{j \\in J} min \\{0,  d_jc_{ij} - \\lambda_j\\}$\n",
    "2. Ordenamos os candidatos a locação pelo valor de $v_i$ (do menor para o maior) e selecionaremos os $p$ $v_i's$ mais negativos.\n",
    "3. Fazemos $y_i = 1$ para as $p$ localidades escolhidas\n",
    "4. Fazemos $x_{ij} = 1$ se $d_jc_ij - \\lambda_j < 0$"
   ]
  },
  {
   "cell_type": "code",
   "execution_count": 58,
   "id": "c700fc4e",
   "metadata": {
    "collapsed": true
   },
   "outputs": [
    {
     "data": {
      "text/plain": [
       "8-element Vector{Float64}:\n",
       " 0.0\n",
       " 0.0\n",
       " 0.0\n",
       " 0.0\n",
       " 0.0\n",
       " 0.0\n",
       " 0.0\n",
       " 0.0"
      ]
     },
     "execution_count": 58,
     "metadata": {},
     "output_type": "execute_result"
    }
   ],
   "source": [
    "#Implementação de 1\n",
    "\n",
    "v = Array{Float64}(undef, size(locations))\n",
    "for i in locations\n",
    "    v[i] = 0\n",
    "    for j in customers\n",
    "        v[i] = v[i] + min(0, d[j]*c[i,j] - lambda[j])\n",
    "    end\n",
    "end"
   ]
  },
  {
   "cell_type": "code",
   "execution_count": 59,
   "id": "caae88fa",
   "metadata": {
    "collapsed": true
   },
   "outputs": [
    {
     "data": {
      "text/plain": [
       "8-element Vector{Int64}:\n",
       " 1\n",
       " 2\n",
       " 3\n",
       " 4\n",
       " 5\n",
       " 6\n",
       " 7\n",
       " 8"
      ]
     },
     "execution_count": 59,
     "metadata": {},
     "output_type": "execute_result"
    }
   ],
   "source": [
    "#Implementação de 2\n",
    "idx = sortperm(v)"
   ]
  },
  {
   "cell_type": "code",
   "execution_count": 60,
   "id": "105c17e3",
   "metadata": {},
   "outputs": [],
   "source": [
    "#Implementação de 3\n",
    "y = zeros(Int, size(locations))\n",
    "\n",
    "for i in 1:p \n",
    "    y[idx[i]] = 1\n",
    "end "
   ]
  },
  {
   "cell_type": "code",
   "execution_count": null,
   "id": "bf1dc48f",
   "metadata": {},
   "outputs": [],
   "source": [
    "#Implementação de 4\n",
    "x = zeros(Int, length(locations), length(customers))\n",
    "for i in locations, j in customers\n",
    "    if y[i] == 1 && d[j]*c[i,j]-lambda[j]<0\n",
    "        x[i,j] = 1\n",
    "    end\n",
    "end"
   ]
  },
  {
   "cell_type": "markdown",
   "id": "34695b37",
   "metadata": {},
   "source": [
    "Além disso, precisamos calcular o valor de $Z_D(\\lambda)$"
   ]
  },
  {
   "cell_type": "code",
   "execution_count": null,
   "id": "ad151356",
   "metadata": {},
   "outputs": [],
   "source": [
    "Z_D = 0.0\n",
    "for j in customers\n",
    "    Z_D = Z_D + lambda[j]\n",
    "    for i in locations\n",
    "        Z_D = Z_D + d[j]*c[i,j]*x[i,j] - lambda[j]*x[i,j]\n",
    "    end\n",
    "end"
   ]
  },
  {
   "cell_type": "markdown",
   "id": "67a885c1",
   "metadata": {},
   "source": [
    "Que é essencialmente isto:\n",
    "\n",
    "$$\n",
    "Z_D(\\lambda)=\\min \\sum_{i \\in \\mathcal{I}} \\sum_{j \\in \\mathcal{J}} d_j c_{i j} x_{i j}+\\sum_{j \\in \\mathcal{J}} \\lambda_j\\left(1-\\sum_{i \\in \\mathcal{I}} x_{i j}\\right)\n",
    "$$\n",
    "\n",
    "Juntando tudo e botando em uma função, teremos:"
   ]
  },
  {
   "cell_type": "code",
   "execution_count": 61,
   "id": "0a192618",
   "metadata": {},
   "outputs": [
    {
     "data": {
      "text/plain": [
       "lowerBound (generic function with 1 method)"
      ]
     },
     "execution_count": 61,
     "metadata": {},
     "output_type": "execute_result"
    }
   ],
   "source": [
    "function lowerBound(lambda)\n",
    "    # Passo 1: Calculando v\n",
    "    v = Array{Float64}(undef, size(locations))\n",
    "    for i in locations\n",
    "        v[i] = 0\n",
    "        for j in customers\n",
    "            v[i] = v[i] + min(0, d[j]*c[i,j] - lambda[j] )\n",
    "        end\n",
    "    end\n",
    "\n",
    "    # Passo 2: Ordenando v do mais negativo ao menos negativo, pegando os índices\n",
    "    idx = sortperm(v)\n",
    "\n",
    "    # Passo 3: Identificando y\n",
    "    y = zeros(Int, size(locations))\n",
    "\n",
    "    for i in 1:p \n",
    "        y[idx[i]] = 1\n",
    "    end \n",
    "\n",
    "    # Passo 4: Identificando x\n",
    "    x = zeros(Int, length(locations), length(customers))\n",
    "    for i in locations, j in customers\n",
    "        if y[i]==1 && d[j]*c[i,j]-lambda[j]<0\n",
    "              x[i,j] = 1\n",
    "        end\n",
    "    end\n",
    "\n",
    "    # Calculando o lower bound\n",
    "    Z_D = 0.0\n",
    "    for j in customers\n",
    "        Z_D = Z_D + lambda[j]\n",
    "        for i in locations\n",
    "            Z_D = Z_D + d[j]*c[i,j]*x[i,j] - lambda[j]*x[i,j]\n",
    "        end\n",
    "    end\n",
    "\n",
    "  return Z_D, x, y\n",
    "end"
   ]
  },
  {
   "cell_type": "markdown",
   "id": "bedd9f21",
   "metadata": {},
   "source": [
    "### Encontrando upper bounds"
   ]
  },
  {
   "cell_type": "markdown",
   "id": "d4cb6161",
   "metadata": {},
   "source": [
    "Resolvendo o subproblema lagrangeano, nós temos uma solução explícita pra **x** e para **y**. No entanto, note que a variável y satisfaz todas as restrições originais, mas a variável x não, uma vez que dualizamos o conjunto de restrições de atendimento a toda demanda. Dessa forma, para encontrarmos **soluções viáveis** para o problema e ter um limite superior, vamos manter os valores de y encontrados e para cada cliente, vamos atribuir o que tiver mais próximo das facilidades abertas. "
   ]
  },
  {
   "cell_type": "code",
   "execution_count": 62,
   "id": "8260bdb3",
   "metadata": {},
   "outputs": [
    {
     "data": {
      "text/plain": [
       "upperBound (generic function with 1 method)"
      ]
     },
     "execution_count": 62,
     "metadata": {},
     "output_type": "execute_result"
    }
   ],
   "source": [
    "function upperBound(y)\n",
    "    # Calculando x, dado y a partir da proximidade\n",
    "    x = zeros(Int, length(locations), length(customers))\n",
    "  \n",
    "    for j in customers\n",
    "        fac_prox = 0\n",
    "        for i in locations \n",
    "            if y[i] == 1 && c[i,j] <= fac_prox \n",
    "                idx = i \n",
    "                fac_prox = c[i,j]\n",
    "            end \n",
    "        end \n",
    "        x[idx, j] = 1\n",
    "    end \n",
    "\n",
    "    # Calculando Z\n",
    "    Z = 0.0\n",
    "    for i in locations\n",
    "        for j in customers\n",
    "          Z = Z + d[j]*c[i,j]*x[i,j]\n",
    "        end\n",
    "    end\n",
    "\n",
    "  return Z, x\n",
    "end"
   ]
  },
  {
   "cell_type": "markdown",
   "id": "2bf6e867",
   "metadata": {},
   "source": [
    "### Atualizando o multiplicador de lagrange"
   ]
  },
  {
   "cell_type": "markdown",
   "id": "fb34daa6",
   "metadata": {},
   "source": [
    "Para atualizar o multiplicador $\\lambda^k$ em cada iteração $k$, vamos utilizar o método do subgradiente:\n",
    "\n",
    "$$\n",
    "\\lambda_j^{k+1}=\\lambda_j^k+t_k\\left(1-\\sum_{i \\in \\mathcal{I}} x_{D i j}^k\\right)\n",
    "$$\n",
    "\n",
    "onde o tamanho de passo $t_k$ é determinado por\n",
    "$$\n",
    "t_k=\\frac{\\theta_k\\left(Z_{\\mathrm{UB}}-Z_D\\left(\\lambda^k\\right)\\right)}{\\sum_{j \\in \\mathcal{J}}\\left(1-\\sum_{i \\in \\mathcal{I}} x_{D i j}^k\\right)^2}\n",
    "$$\n",
    "\n",
    "Tal que $Z_{UB}$ é o melhor limite superior encontrado (nesse caso, o menor), $x_{D i j}^k$ é o elemento em $(i,j)$ da solução $x_D^k$ do subproblema lagrangeano na iteração $k$, e $\\theta_k \\in (0,2]$ um escalar."
   ]
  },
  {
   "cell_type": "markdown",
   "id": "1548b428",
   "metadata": {},
   "source": [
    "Para rodar iterações de um algoritmo lagrageano atualizando o multiplicador como descrito antes, vamos precisar de algumas premissas. Primeiro, vamos definir o número máximo de iterações."
   ]
  },
  {
   "cell_type": "code",
   "execution_count": 63,
   "id": "22036cfc",
   "metadata": {},
   "outputs": [
    {
     "data": {
      "text/plain": [
       "10000"
      ]
     },
     "execution_count": 63,
     "metadata": {},
     "output_type": "execute_result"
    }
   ],
   "source": [
    "MAX_ITER = 10000"
   ]
  },
  {
   "cell_type": "markdown",
   "id": "37a248aa",
   "metadata": {},
   "source": [
    "Também vamos preparar dois objetos do tipo Float64 vazios para armazenar os limites inferiores e superiores encontrados na iteração k"
   ]
  },
  {
   "cell_type": "code",
   "execution_count": 64,
   "id": "7cbe2184",
   "metadata": {},
   "outputs": [
    {
     "data": {
      "text/plain": [
       "Float64[]"
      ]
     },
     "execution_count": 64,
     "metadata": {},
     "output_type": "execute_result"
    }
   ],
   "source": [
    "UB = Array{Float64}(undef, 0)\n",
    "LB = Array{Float64}(undef, 0)"
   ]
  },
  {
   "cell_type": "markdown",
   "id": "00842fc4",
   "metadata": {},
   "source": [
    "Para armazenar os melhores limites encontrados durante todo o algoritmo, definimos:"
   ]
  },
  {
   "cell_type": "code",
   "execution_count": 65,
   "id": "ec7ee5b2",
   "metadata": {},
   "outputs": [
    {
     "data": {
      "text/plain": [
       "-Inf"
      ]
     },
     "execution_count": 65,
     "metadata": {},
     "output_type": "execute_result"
    }
   ],
   "source": [
    "Z_UB = Inf\n",
    "Z_LB = -Inf"
   ]
  },
  {
   "cell_type": "markdown",
   "id": "4dd38593",
   "metadata": {},
   "source": [
    "Também armazenamos a melhor solução encontrada durante o algoritmo, isto é, os valores das variáveis da melhor solução viável encontrada"
   ]
  },
  {
   "cell_type": "code",
   "execution_count": 66,
   "id": "ba0b5604",
   "metadata": {},
   "outputs": [
    {
     "data": {
      "text/plain": [
       "8-element Vector{Float64}:\n",
       " 0.0\n",
       " 0.0\n",
       " 0.0\n",
       " 0.0\n",
       " 0.0\n",
       " 0.0\n",
       " 0.0\n",
       " 0.0"
      ]
     },
     "execution_count": 66,
     "metadata": {},
     "output_type": "execute_result"
    }
   ],
   "source": [
    "x_best = zeros(length(locations), length(customers))\n",
    "y_best = zeros(length(locations))"
   ]
  },
  {
   "cell_type": "markdown",
   "id": "ae054e14",
   "metadata": {},
   "source": [
    "Por fim, preparamos o multiplicador de lagrange $\\lambda$ inicializando com os valores zerados:"
   ]
  },
  {
   "cell_type": "code",
   "execution_count": 67,
   "id": "e2656521",
   "metadata": {},
   "outputs": [
    {
     "data": {
      "text/plain": [
       "10-element Vector{Float64}:\n",
       " 0.0\n",
       " 0.0\n",
       " 0.0\n",
       " 0.0\n",
       " 0.0\n",
       " 0.0\n",
       " 0.0\n",
       " 0.0\n",
       " 0.0\n",
       " 0.0"
      ]
     },
     "execution_count": 67,
     "metadata": {},
     "output_type": "execute_result"
    }
   ],
   "source": [
    "lambda = zeros(size(customers))"
   ]
  },
  {
   "cell_type": "markdown",
   "id": "e62f5560",
   "metadata": {},
   "source": [
    "Agora podemos calcular o tamanho de passo para atualizar o multiplicador. Nesse exemplo, vamos fazer $\\theta_k = 1$ por simplicidade:"
   ]
  },
  {
   "cell_type": "code",
   "execution_count": 68,
   "id": "faafbe1e",
   "metadata": {},
   "outputs": [
    {
     "data": {
      "text/plain": [
       "1.0"
      ]
     },
     "execution_count": 68,
     "metadata": {},
     "output_type": "execute_result"
    }
   ],
   "source": [
    "theta = 1.0"
   ]
  },
  {
   "cell_type": "markdown",
   "id": "091b492d",
   "metadata": {},
   "source": [
    "Agora nós calculamos o vetor onde o j-ésimo elemento é:\n",
    "$$\n",
    "1-\\sum_{i \\in \\mathcal{I}} x_{D i j}^k\n",
    "$$"
   ]
  },
  {
   "cell_type": "code",
   "execution_count": 69,
   "id": "a54dcc26",
   "metadata": {},
   "outputs": [],
   "source": [
    "s = zeros(length(customers))\n",
    "norm = 0\n",
    "for j in customers\n",
    "    s[j] = 1\n",
    "    for i in locations\n",
    "        s[j] -= x_D[i,j]\n",
    "    end\n",
    "    norm += s[j]\n",
    "end "
   ]
  },
  {
   "cell_type": "markdown",
   "id": "afc654d6",
   "metadata": {},
   "source": [
    "Atualizando o multiplicador:"
   ]
  },
  {
   "cell_type": "code",
   "execution_count": 70,
   "id": "69f10084",
   "metadata": {
    "collapsed": true
   },
   "outputs": [
    {
     "data": {
      "text/plain": [
       "10×1 Matrix{Float64}:\n",
       " Inf\n",
       " Inf\n",
       " Inf\n",
       " Inf\n",
       " Inf\n",
       " Inf\n",
       " Inf\n",
       " Inf\n",
       " Inf\n",
       " Inf"
      ]
     },
     "execution_count": 70,
     "metadata": {},
     "output_type": "execute_result"
    }
   ],
   "source": [
    "t = theta * (Z_UB - Z_D) / sum(norm^2)\n",
    "lambda = lambda + t * residual"
   ]
  },
  {
   "cell_type": "markdown",
   "id": "e0a846ea",
   "metadata": {},
   "source": [
    "De forma geral, a cara do algoritmo deve seguir algo assim:"
   ]
  },
  {
   "cell_type": "code",
   "execution_count": null,
   "id": "60d3e4dd",
   "metadata": {},
   "outputs": [],
   "source": [
    "for k=1:MAX_ITER\n",
    "  ...\n",
    "\n",
    "  if opt_gap < 0.000001\n",
    "    break\n",
    "  end\n",
    "end"
   ]
  },
  {
   "cell_type": "markdown",
   "id": "22bf6d1b",
   "metadata": {},
   "source": [
    "Ou seja, repetiremos todos esses procemos até que o gap de otimalidade seja menor do que um $\\epsilon$. O gap de otimalidade é dado pela diferença entre o melhor limite superior com o melhor limite inferior.\n",
    "\n",
    "Dentro do loop, nós fazemos o seguinte:\n",
    "- Obtemos um limite inferior resolvendo o subproblema lagrangeano\n",
    "- Depois com as locations abertas do subproblema, buscamos uma solução viável"
   ]
  },
  {
   "cell_type": "code",
   "execution_count": 48,
   "id": "c5a2d41b",
   "metadata": {
    "collapsed": true
   },
   "outputs": [
    {
     "ename": "LoadError",
     "evalue": "MethodError: no method matching lower_bound(::Vector{Float64}, ::Int64)",
     "output_type": "error",
     "traceback": [
      "MethodError: no method matching lower_bound(::Vector{Float64}, ::Int64)",
      "",
      "Stacktrace:",
      " [1] top-level scope",
      "   @ In[48]:1",
      " [2] eval",
      "   @ .\\boot.jl:368 [inlined]",
      " [3] include_string(mapexpr::typeof(REPL.softscope), mod::Module, code::String, filename::String)",
      "   @ Base .\\loading.jl:1428"
     ]
    }
   ],
   "source": [
    "Z_D, x_D, y = lowerBound(lambda, p)\n",
    "Z, x = upperBound(y)"
   ]
  },
  {
   "cell_type": "markdown",
   "id": "78c8b9ea",
   "metadata": {},
   "source": [
    "Depois disso, atualizamos os melhores limites encontrados e guardamos a melhor solução"
   ]
  },
  {
   "cell_type": "code",
   "execution_count": null,
   "id": "1dc3f29d",
   "metadata": {},
   "outputs": [],
   "source": [
    "# Atualizando o upper bound\n",
    "  if Z < Z_UB\n",
    "    Z_UB = Z\n",
    "    x_best = x\n",
    "    y_best = y\n",
    "  end\n",
    "\n",
    "  # Atualizando lower bound\n",
    "  if Z_D > Z_LB\n",
    "    Z_LB = Z_D\n",
    "  end"
   ]
  },
  {
   "cell_type": "markdown",
   "id": "f867dcdf",
   "metadata": {},
   "source": [
    "Juntando tudo em uma única função, teremos:"
   ]
  },
  {
   "cell_type": "code",
   "execution_count": 73,
   "id": "ef146ec2",
   "metadata": {},
   "outputs": [
    {
     "data": {
      "text/plain": [
       "lagrangianRelaxation (generic function with 1 method)"
      ]
     },
     "execution_count": 73,
     "metadata": {},
     "output_type": "execute_result"
    }
   ],
   "source": [
    "function lagrangianRelaxation(p)\n",
    "    # Número máximo de iterações permitidas no algoritmo\n",
    "    MAX_ITER = 10000\n",
    "\n",
    "    # Definindo vetores vazios do tipo Float64 para os limites superiores e inferiores\n",
    "    UB = Array{Float64}(undef, 0) # Limite superior\n",
    "    LB = Array{Float64}(undef, 0) # Limite inferior\n",
    "\n",
    "    # Os melhores upper and lower bounds\n",
    "    Z_UB = Inf\n",
    "    Z_LB = -Inf\n",
    "\n",
    "    # A melhor solução viável encontrada\n",
    "    x_best = zeros(length(locations), length(customers))\n",
    "    y_best = zeros(length(locations))\n",
    "\n",
    "    # Inicializando multiplicadores de lagrange com zero do tamanho de clientes\n",
    "    lambda = zeros(size(customers))\n",
    "\n",
    "    for k in 1:MAX_ITER\n",
    "        \n",
    "      # Obtendo limites inferiores e superiores\n",
    "      Z_D, x_D, y = lowerBound(lambda) # resolvendo o subproblema lagrangeano\n",
    "      Z, x = uppeBound(y) # buscando uma solução viável\n",
    "\n",
    "      # Atualizando o upper bound\n",
    "      if Z < Z_UB\n",
    "        Z_UB = Z\n",
    "        x_best = x\n",
    "        y_best = y\n",
    "      end\n",
    "\n",
    "      # Atualizando o lower bound\n",
    "      if Z_D > Z_LB\n",
    "        Z_LB = Z_D\n",
    "      end\n",
    "\n",
    "      # Determinando o tamanho de passo e atualizando o multiplicador\n",
    "      theta = 1.0\n",
    "      s = zeros(length(customers))\n",
    "      norm = 0\n",
    "      for j in customers\n",
    "        s[j] = 1\n",
    "        for i in locations\n",
    "            s[j] -= x_D[i,j]\n",
    "        end\n",
    "        norm += s[j]\n",
    "      end \n",
    "        \n",
    "      t = theta * (Z_UB - Z_D) / sum(norm^2)\n",
    "      lambda = lambda + t * residual\n",
    "\n",
    "      # Calculando o gap de otimizalidade (1a condição de parada)\n",
    "      opt_gap = (Z_UB-Z_LB) / Z_UB\n",
    "      if opt_gap < 0.000001\n",
    "            print(\"Saindo por otimalidade!\")\n",
    "        break\n",
    "      end\n",
    "        \n",
    "    end\n",
    "\n",
    "    return Z_UB, x_best, y_best, UB, LB\n",
    "end"
   ]
  },
  {
   "cell_type": "markdown",
   "id": "927bdfac",
   "metadata": {},
   "source": [
    "Primeiro, vamos resolver utilizando o solver:"
   ]
  },
  {
   "cell_type": "code",
   "execution_count": 72,
   "id": "fb75fe2a",
   "metadata": {
    "collapsed": true
   },
   "outputs": [
    {
     "name": "stdout",
     "output_type": "stream",
     "text": [
      "Set parameter Username\r\n",
      "Academic license - for non-commercial use only - expires 2023-03-09\r\n",
      "Gurobi Optimizer version 9.5.1 build v9.5.1rc2 (win64)\r\n",
      "Thread count: 4 physical cores, 8 logical processors, using up to 8 threads\r\n",
      "Optimize a model with 91 rows, 88 columns and 248 nonzeros\r\n",
      "Model fingerprint: 0xcdcf507c\r\n",
      "Variable types: 80 continuous, 8 integer (8 binary)\r\n",
      "Coefficient statistics:\r\n",
      "  Matrix range     [1e+00, 1e+00]\r\n",
      "  Objective range  [6e+00, 1e+03]\r\n",
      "  Bounds range     [0e+00, 0e+00]\r\n",
      "  RHS range        [1e+00, 3e+00]\r\n",
      "Presolve time: 0.00s\r\n",
      "Presolved: 91 rows, 88 columns, 248 nonzeros\r\n",
      "Variable types: 80 continuous, 8 integer (8 binary)\r\n",
      "Found heuristic solution: objective 1443.0000000\r\n",
      "Found heuristic solution: objective 1196.0000000\r\n",
      "\r\n",
      "Root relaxation: objective 9.570000e+02, 20 iterations, 0.00 seconds (0.00 work units)\r\n",
      "\r\n",
      "    Nodes    |    Current Node    |     Objective Bounds      |     Work\r\n",
      " Expl Unexpl |  Obj  Depth IntInf | Incumbent    BestBd   Gap | It/Node Time\r\n",
      "\r\n",
      "*    0     0               0     957.0000000  957.00000  0.00%     -    0s\r\n",
      "\r\n",
      "Explored 1 nodes (20 simplex iterations) in 0.00 seconds (0.00 work units)\r\n",
      "Thread count was 8 (of 8 available processors)\r\n",
      "\r\n",
      "Solution count 3: 957 1196 1443 \r\n",
      "\r\n",
      "Optimal solution found (tolerance 1.00e-04)\r\n",
      "Best objective 9.570000000000e+02, best bound 9.570000000000e+02, gap 0.0000%\r\n",
      "\r\n",
      "User-callback calls 160, time in user-callback 0.00 sec\r\n"
     ]
    },
    {
     "data": {
      "text/plain": [
       "(957.0, 2-dimensional DenseAxisArray{Float64,2,...} with index sets:\n",
       "    Dimension 1, 1:8\n",
       "    Dimension 2, 1:10\n",
       "And data, a 8×10 Matrix{Float64}:\n",
       " 0.0  0.0  0.0  0.0  0.0  0.0  0.0  0.0  0.0  0.0\n",
       " 0.0  0.0  0.0  0.0  0.0  0.0  0.0  0.0  0.0  0.0\n",
       " 0.0  0.0  0.0  0.0  0.0  1.0  0.0  0.0  0.0  0.0\n",
       " 1.0  1.0  1.0  0.0  1.0  0.0  0.0  0.0  0.0  0.0\n",
       " 0.0  0.0  0.0  0.0  0.0  0.0  0.0  0.0  0.0  0.0\n",
       " 0.0  0.0  0.0  0.0  0.0  0.0  0.0  0.0  0.0  0.0\n",
       " 0.0  0.0  0.0  0.0  0.0  0.0  0.0  0.0  0.0  0.0\n",
       " 0.0  0.0  0.0  1.0  0.0  0.0  1.0  1.0  1.0  1.0, 1-dimensional DenseAxisArray{Float64,1,...} with index sets:\n",
       "    Dimension 1, 1:8\n",
       "And data, a 8-element Vector{Float64}:\n",
       " -0.0\n",
       "  0.0\n",
       "  1.0\n",
       "  1.0\n",
       " -0.0\n",
       " -0.0\n",
       " -0.0\n",
       "  1.0)"
      ]
     },
     "execution_count": 72,
     "metadata": {},
     "output_type": "execute_result"
    }
   ],
   "source": [
    "Z_opt, x_opt, y_opt = optimal(p)"
   ]
  },
  {
   "cell_type": "code",
   "execution_count": 75,
   "id": "cf476ac2",
   "metadata": {},
   "outputs": [
    {
     "ename": "LoadError",
     "evalue": "MethodError: no method matching lower_bound(::Vector{Float64})\n\u001b[0mClosest candidates are:\n\u001b[0m  lower_bound(\u001b[91m::VariableRef\u001b[39m) at C:\\Users\\afaze\\.julia\\packages\\JuMP\\UqjgA\\src\\variables.jl:596",
     "output_type": "error",
     "traceback": [
      "MethodError: no method matching lower_bound(::Vector{Float64})\n\u001b[0mClosest candidates are:\n\u001b[0m  lower_bound(\u001b[91m::VariableRef\u001b[39m) at C:\\Users\\afaze\\.julia\\packages\\JuMP\\UqjgA\\src\\variables.jl:596",
      "",
      "Stacktrace:",
      " [1] lagrangianRelaxation(p::Int64)",
      "   @ Main .\\In[73]:23",
      " [2] top-level scope",
      "   @ In[75]:1",
      " [3] eval",
      "   @ .\\boot.jl:368 [inlined]",
      " [4] include_string(mapexpr::typeof(REPL.softscope), mod::Module, code::String, filename::String)",
      "   @ Base .\\loading.jl:1428"
     ]
    }
   ],
   "source": [
    "Z_UB, x_best, y_best, UB, LB = lagrangianRelaxation(p)"
   ]
  },
  {
   "cell_type": "markdown",
   "id": "75e543e3",
   "metadata": {},
   "source": [
    "Outras condições de parada:"
   ]
  },
  {
   "cell_type": "code",
   "execution_count": 49,
   "id": "4c107e7d",
   "metadata": {},
   "outputs": [
    {
     "data": {
      "text/plain": [
       "0"
      ]
     },
     "execution_count": 49,
     "metadata": {},
     "output_type": "execute_result"
    }
   ],
   "source": [
    "# Começar com theta grande e ir diminuindo a medida que não há melhora nos melhores limites. Parar se theta for muito pequeno.\n",
    "theta = 2\n",
    "improve = 0\n",
    "theta_min = 0.0001\n",
    "\n",
    "...\n",
    "\n",
    "if improve >= maxIter/20\n",
    "    theta = theta/2\n",
    "    improve = 0\n",
    "    if theta < theta_min\n",
    "        println(\"Parando por theta pequeno (iteração \", k, \")\")\n",
    "        break\n",
    "    end\n",
    "end"
   ]
  },
  {
   "cell_type": "code",
   "execution_count": null,
   "id": "1ca528e2",
   "metadata": {},
   "outputs": [],
   "source": [
    "# Se o tamanho de passo for muito pequeno\n",
    "if t < theta_min\n",
    "    break\n",
    "end "
   ]
  }
 ],
 "metadata": {
  "kernelspec": {
   "display_name": "Julia 1.8.1",
   "language": "julia",
   "name": "julia-1.8"
  },
  "language_info": {
   "file_extension": ".jl",
   "mimetype": "application/julia",
   "name": "julia",
   "version": "1.8.1"
  }
 },
 "nbformat": 4,
 "nbformat_minor": 5
}
