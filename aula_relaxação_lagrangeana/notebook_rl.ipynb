{
 "cells": [
  {
   "cell_type": "markdown",
   "id": "8e5f6399",
   "metadata": {},
   "source": [
    "Considere o modelo de p-mediana\n",
    "\n",
    "- $I = \\{1,\\dots, m\\}$: o conjunto de localidades disponíveis\n",
    "- $J = \\{1, \\dots, n\\}$: o conjunto de clientes para as localidades\n",
    "\n",
    "- $p$: número de localidades a serem abertas\n",
    "- $d_j$: o tamanho da demanda do cliente $j \\in J$\n",
    "- $c_{ij}$: o custo de transporte entre a localidade $i \\in I$ e o cliente $j \\in J$\n",
    "\n",
    "- $x_{ij}$: a fração de demanda do cliente $j \\in J$ atendida pela localidade $i \\in I$\n",
    "- $y_i$: vale 1 se a localidade é aberta na locação $i \\in I$, 0 caso contrário.\n",
    "\n",
    "\\begin{aligned}\n",
    "    Z^*=\\min & \\sum_{i \\in \\mathcal{I}} \\sum_{j \\in \\mathcal{J}} d_j c_{i j} x_{i j} \\\\\n",
    "    \\text { s.t. } & \\sum_{i \\in \\mathcal{I}} x_{i j}=1 \\quad \\forall j \\in \\mathcal{J} \\\\\n",
    "    & \\sum_{i \\in \\mathcal{I}} y_i=p \\\\\n",
    "    & x_{i j} \\leq y_i \\quad \\forall i \\in \\mathcal{I}, j \\in \\mathcal{J} \\\\\n",
    "    & y_i \\in\\{0,1\\} \\quad \\forall i \\in \\mathcal{I} \\\\\n",
    "    & x_{i j} \\geq 0 \\quad \\forall i \\in \\mathcal{I}, j \\in \\mathcal{J}\n",
    "\\end{aligned}\n",
    "\n",
    "\n",
    "Vamos dualizar o primeiro conjunto de restrições, multiplicando por $\\{\\lambda_j \\geq 0: j \\in N\\}$ à cada restrição"
   ]
  },
  {
   "cell_type": "markdown",
   "id": "2fbdbf03",
   "metadata": {},
   "source": [
    "Resultando no seguinte subproblema lagrangeano:\n",
    "\n",
    "\\begin{aligned}\n",
    "    Z_D(\\lambda)=\\min & \\sum_{i \\in \\mathcal{I}} \\sum_{j \\in \\mathcal{J}} d_j c_{i j} x_{i j}+\\sum_{j \\in \\mathcal{J}} \\lambda_j\\left(1-\\sum_{i \\in \\mathcal{I}} x_{i j}\\right) \\\\\n",
    "    =\\min & \\sum_{i \\in \\mathcal{I}} \\sum_{j \\in \\mathcal{J}}\\left(d_j c_{i j}-\\lambda_j\\right) x_{i j}+\\sum_{j \\in \\mathcal{J}} \\lambda_j \\\\\n",
    "    \\text { s.t. } & \\sum_{i \\in \\mathcal{I}} y_i=p \\\\\n",
    "    & x_{i j} \\leq y_i \\quad \\forall i \\in \\mathcal{I}, j \\in \\mathcal{J} \\\\\n",
    "    & y_i \\in\\{0,1\\} \\quad \\forall i \\in \\mathcal{I} \\\\\n",
    "    & x_{i j} \\geq 0 \\quad \\forall i \\in \\mathcal{I}, j \\in \\mathcal{J}\n",
    "\\end{aligned}"
   ]
  },
  {
   "cell_type": "markdown",
   "id": "9a89e226",
   "metadata": {},
   "source": [
    "### Instância"
   ]
  },
  {
   "cell_type": "code",
   "execution_count": 1,
   "id": "ed6a8953",
   "metadata": {},
   "outputs": [
    {
     "data": {
      "text/plain": [
       "1×10 Matrix{Int64}:\n",
       " 10  6  20  32  15  28  3  19  8  1"
      ]
     },
     "execution_count": 1,
     "metadata": {},
     "output_type": "execute_result"
    }
   ],
   "source": [
    "d = [10 6 20 32 15 28 3 19 8 1]"
   ]
  },
  {
   "cell_type": "code",
   "execution_count": 2,
   "id": "91dcb941",
   "metadata": {},
   "outputs": [
    {
     "data": {
      "text/plain": [
       "8×10 Matrix{Int64}:\n",
       " 10   6  20  32  15  28   3  19   8  13\n",
       " 10   7  11  12  32  15  20  26   4  41\n",
       " 13  17  31  37  21   5  13  15  14  12\n",
       "  4  13  14  22   8  31  26  11  12  23\n",
       " 21  21  13  18   9  27  11  16  26  32\n",
       " 32  18  11  14  11  11  16  32  34   8\n",
       " 15   9  13  12  14  15  32   8  12   9\n",
       " 28  32  15   2  17  12   9   6  11   6"
      ]
     },
     "execution_count": 2,
     "metadata": {},
     "output_type": "execute_result"
    }
   ],
   "source": [
    "c = [\n",
    "10 6 20 32 15 28 3 19 8 13\n",
    "10 7 11 12 32 15 20 26 4 41\n",
    "13 17 31 37 21 5 13 15 14 12\n",
    "4 13 14 22 8 31 26 11 12 23\n",
    "21 21 13 18 9 27 11 16 26 32\n",
    "32 18 11 14 11 11 16 32 34 8\n",
    "15 9 13 12 14 15 32 8 12 9\n",
    "28 32 15 2 17 12 9 6 11 6  \n",
    "]"
   ]
  },
  {
   "cell_type": "code",
   "execution_count": 3,
   "id": "7001acd3",
   "metadata": {},
   "outputs": [
    {
     "data": {
      "text/plain": [
       "3"
      ]
     },
     "execution_count": 3,
     "metadata": {},
     "output_type": "execute_result"
    }
   ],
   "source": [
    "p = 3"
   ]
  },
  {
   "cell_type": "code",
   "execution_count": 4,
   "id": "f6630621",
   "metadata": {},
   "outputs": [
    {
     "data": {
      "text/plain": [
       "1:10"
      ]
     },
     "execution_count": 4,
     "metadata": {},
     "output_type": "execute_result"
    }
   ],
   "source": [
    "locations = 1:size(c,1) # the set, I\n",
    "customers = 1:length(d) # the set, J"
   ]
  },
  {
   "cell_type": "markdown",
   "id": "6d108d9e",
   "metadata": {},
   "source": [
    "### Encontrando Lower Bounds"
   ]
  },
  {
   "cell_type": "markdown",
   "id": "22f1a724",
   "metadata": {},
   "source": [
    "Este subproblema lagrangeano tem uma estrutura especial que faz com que seja mais fácil de resolver. Como relaxamos o primeiro conjunto de restrições, não precisamos nos importar em atribuir demanda à todos os clientes.\n",
    "\n",
    "Dessa forma, basta seguirmos o seguinte algoritmo para resolver por inspeção:\n",
    "\n",
    "1. Para cada $i \\in I$, vamos computar $v_i = \\sum_{j \\in J} min \\{0,  d_jc_{ij} - \\lambda_j\\}$\n",
    "2. Ordenamos os candidatos a locação pelo valor de $v_i$ (do menor para o maior) e selecionaremos os $p$ $v_i's$ mais negativos.\n",
    "3. Fazemos $y_i = 1$ para as $p$ localidades escolhidas\n",
    "4. Fazemos $x_{ij} = 1$ se $d_jc_ij - \\lambda_j < 0$"
   ]
  },
  {
   "cell_type": "code",
   "execution_count": 7,
   "id": "fb901ae5",
   "metadata": {},
   "outputs": [],
   "source": [
    "#Implementação de 1\n",
    "lambda = zeros(size(customers))\n",
    "\n",
    "v = Array{Float64}(undef, size(locations))\n",
    "for i in locations\n",
    "    v[i] = 0\n",
    "    for j in customers\n",
    "        v[i] = v[i] + min(0, d[j]*c[i,j] - lambda[j])\n",
    "    end\n",
    "end"
   ]
  },
  {
   "cell_type": "code",
   "execution_count": 11,
   "id": "5540f861",
   "metadata": {
    "collapsed": true
   },
   "outputs": [
    {
     "data": {
      "text/plain": [
       "8-element Vector{Int64}:\n",
       " 1\n",
       " 2\n",
       " 3\n",
       " 4\n",
       " 5\n",
       " 6\n",
       " 7\n",
       " 8"
      ]
     },
     "execution_count": 11,
     "metadata": {},
     "output_type": "execute_result"
    }
   ],
   "source": [
    "#Implementação de 2\n",
    "idx = sortperm(v)"
   ]
  },
  {
   "cell_type": "code",
   "execution_count": null,
   "id": "8bf0a13a",
   "metadata": {},
   "outputs": [],
   "source": [
    "#Implementação de 3\n",
    "y = zeros(Int, size(locations))\n",
    "\n",
    "for i in 1:p \n",
    "    y[idx[i]] = 1\n",
    "end "
   ]
  },
  {
   "cell_type": "code",
   "execution_count": null,
   "id": "0fa764f5",
   "metadata": {},
   "outputs": [],
   "source": [
    "#Implementação de 4\n",
    "x = zeros(Int, length(locations), length(customers))\n",
    "for i in locations, j in customers\n",
    "    if y[i] == 1 && d[j]*c[i,j]-lambda[j]<0\n",
    "        x[i,j] = 1\n",
    "    end\n",
    "end"
   ]
  },
  {
   "cell_type": "markdown",
   "id": "03a2d62e",
   "metadata": {},
   "source": [
    "Além disso, precisamos calcular o valor de $Z_D(\\lambda)$"
   ]
  },
  {
   "cell_type": "code",
   "execution_count": null,
   "id": "be26e168",
   "metadata": {},
   "outputs": [],
   "source": [
    "Z_D = 0.0\n",
    "for j in customers\n",
    "    Z_D = Z_D + lambda[j]\n",
    "    for i in locations\n",
    "        Z_D = Z_D + d[j]*c[i,j]*x[i,j] - lambda[j]*x[i,j]\n",
    "    end\n",
    "end"
   ]
  },
  {
   "cell_type": "markdown",
   "id": "8329acd4",
   "metadata": {},
   "source": [
    "Que é essencialmente isto:\n",
    "\n",
    "$$\n",
    "Z_D(\\lambda)=\\min \\sum_{i \\in \\mathcal{I}} \\sum_{j \\in \\mathcal{J}} d_j c_{i j} x_{i j}+\\sum_{j \\in \\mathcal{J}} \\lambda_j\\left(1-\\sum_{i \\in \\mathcal{I}} x_{i j}\\right)\n",
    "$$\n",
    "\n",
    "Juntando tudo e botando em uma função, teremos:"
   ]
  },
  {
   "cell_type": "code",
   "execution_count": 17,
   "id": "bb6825c2",
   "metadata": {},
   "outputs": [
    {
     "data": {
      "text/plain": [
       "lowerBound (generic function with 1 method)"
      ]
     },
     "execution_count": 17,
     "metadata": {},
     "output_type": "execute_result"
    }
   ],
   "source": [
    "function lowerBound(lambda)\n",
    "    \n",
    "    # Passo 1: Calculando v\n",
    "    v = Array{Float64}(undef, size(locations))\n",
    "    for i in locations\n",
    "        v[i] = 0\n",
    "        for j in customers\n",
    "            v[i] = v[i] + min(0, d[j] * c[i, j] - lambda[j])\n",
    "        end\n",
    "    end\n",
    "\n",
    "    # Passo 2: Ordenando v do mais negativo ao menos negativo, pegando os índices\n",
    "    idx = sortperm(v)\n",
    "\n",
    "    # Passo 3: Identificando y\n",
    "    y = zeros(Int, size(locations))\n",
    "\n",
    "    for i = 1:p\n",
    "        y[idx[i]] = 1\n",
    "    end\n",
    "\n",
    "    # Passo 4: Identificando x\n",
    "    x = zeros(Int, length(locations), length(customers))\n",
    "    for i in locations, j in customers\n",
    "        if y[i] == 1 && d[j] * c[i, j] - lambda[j] < 0\n",
    "            x[i, j] = 1\n",
    "        end\n",
    "    end\n",
    "\n",
    "    # Calculando o lower bound\n",
    "    Z_D = 0.0\n",
    "    for j in customers\n",
    "        Z_D = Z_D + lambda[j]\n",
    "        for i in locations\n",
    "            Z_D = Z_D + d[j] * c[i, j] * x[i, j] - lambda[j] * x[i, j]\n",
    "        end\n",
    "    end\n",
    "\n",
    "    return Z_D, x, y\n",
    "end"
   ]
  },
  {
   "cell_type": "markdown",
   "id": "05d475a8",
   "metadata": {},
   "source": [
    "### Encontrando upper bounds"
   ]
  },
  {
   "cell_type": "markdown",
   "id": "f49628e5",
   "metadata": {},
   "source": [
    "Resolvendo o subproblema lagrangeano, nós temos uma solução explícita pra **x** e para **y**. No entanto, note que a variável y satisfaz todas as restrições originais, mas a variável x não, uma vez que dualizamos o conjunto de restrições de atendimento a toda demanda. Dessa forma, para encontrarmos **soluções viáveis** para o problema e ter um limite superior, vamos manter os valores de y encontrados e para cada cliente, vamos atribuir o que tiver mais próximo das facilidades abertas. "
   ]
  },
  {
   "cell_type": "code",
   "execution_count": 16,
   "id": "be13c023",
   "metadata": {},
   "outputs": [
    {
     "data": {
      "text/plain": [
       "upperBound (generic function with 1 method)"
      ]
     },
     "execution_count": 16,
     "metadata": {},
     "output_type": "execute_result"
    }
   ],
   "source": [
    "function upperBound(y)\n",
    "    # Calculando x, dado y a partir da proximidade\n",
    "    x = zeros(Int, length(locations), length(customers))\n",
    "\n",
    "    for j in customers\n",
    "        fac_prox = 10000\n",
    "        idx = -1\n",
    "        for i in locations\n",
    "            if y[i] == 1 && c[i, j] <= fac_prox\n",
    "                idx = i\n",
    "                fac_prox = c[i, j]\n",
    "            end\n",
    "        end\n",
    "        x[idx, j] = 1\n",
    "    end\n",
    "\n",
    "    # Calculando Z\n",
    "    Z = 0.0\n",
    "    for i in locations\n",
    "        for j in customers\n",
    "            Z = Z + d[j] * c[i, j] * x[i, j]\n",
    "        end\n",
    "    end\n",
    "\n",
    "    return Z, x\n",
    "end"
   ]
  },
  {
   "cell_type": "markdown",
   "id": "7267b95a",
   "metadata": {},
   "source": [
    "### Atualizando o multiplicador de lagrange"
   ]
  },
  {
   "cell_type": "markdown",
   "id": "3d7efc0d",
   "metadata": {},
   "source": [
    "Para atualizar o multiplicador $\\lambda^k$ em cada iteração $k$, vamos utilizar o método do subgradiente:\n",
    "\n",
    "$$\n",
    "\\lambda_j^{k+1}=\\lambda_j^k+t_k\\left(1-\\sum_{i \\in \\mathcal{I}} x_{D i j}^k\\right)\n",
    "$$\n",
    "\n",
    "onde o tamanho de passo $t_k$ é determinado por\n",
    "$$\n",
    "t_k=\\frac{\\theta_k\\left(Z_{\\mathrm{UB}}-Z_D\\left(\\lambda^k\\right)\\right)}{\\sum_{j \\in \\mathcal{J}}\\left(1-\\sum_{i \\in \\mathcal{I}} x_{D i j}^k\\right)^2}\n",
    "$$\n",
    "\n",
    "Tal que $Z_{UB}$ é o melhor limite superior encontrado (nesse caso, o menor), $x_{D i j}^k$ é o elemento em $(i,j)$ da solução $x_D^k$ do subproblema lagrangeano na iteração $k$, e $\\theta_k \\in (0,2]$ um escalar."
   ]
  },
  {
   "cell_type": "markdown",
   "id": "6e048e88",
   "metadata": {},
   "source": [
    "Para rodar iterações de um algoritmo lagrageano atualizando o multiplicador como descrito antes, vamos precisar de algumas premissas. Primeiro, vamos definir o número máximo de iterações."
   ]
  },
  {
   "cell_type": "code",
   "execution_count": null,
   "id": "75752cdb",
   "metadata": {},
   "outputs": [],
   "source": [
    "MAX_ITER = 10000"
   ]
  },
  {
   "cell_type": "markdown",
   "id": "c9398ca0",
   "metadata": {},
   "source": [
    "Também vamos preparar dois objetos do tipo Float64 vazios para armazenar os limites inferiores e superiores encontrados na iteração k"
   ]
  },
  {
   "cell_type": "code",
   "execution_count": null,
   "id": "e6b3c1ca",
   "metadata": {},
   "outputs": [],
   "source": [
    "UB = Array{Float64}(undef, 0)\n",
    "LB = Array{Float64}(undef, 0)"
   ]
  },
  {
   "cell_type": "markdown",
   "id": "a23dae6d",
   "metadata": {},
   "source": [
    "Para armazenar os melhores limites encontrados durante todo o algoritmo, definimos:"
   ]
  },
  {
   "cell_type": "code",
   "execution_count": null,
   "id": "2d7eddd3",
   "metadata": {},
   "outputs": [],
   "source": [
    "Z_UB = Inf\n",
    "Z_LB = -Inf"
   ]
  },
  {
   "cell_type": "markdown",
   "id": "1bf0f362",
   "metadata": {},
   "source": [
    "Também armazenamos a melhor solução encontrada durante o algoritmo, isto é, os valores das variáveis da melhor solução viável encontrada"
   ]
  },
  {
   "cell_type": "code",
   "execution_count": null,
   "id": "021d6de7",
   "metadata": {},
   "outputs": [],
   "source": [
    "x_best = zeros(length(locations), length(customers))\n",
    "y_best = zeros(length(locations))"
   ]
  },
  {
   "cell_type": "markdown",
   "id": "1fea3eed",
   "metadata": {},
   "source": [
    "Por fim, preparamos o multiplicador de lagrange $\\lambda$ inicializando com os valores zerados:"
   ]
  },
  {
   "cell_type": "code",
   "execution_count": 12,
   "id": "b7e01b61",
   "metadata": {},
   "outputs": [
    {
     "data": {
      "text/plain": [
       "10-element Vector{Float64}:\n",
       " 0.0\n",
       " 0.0\n",
       " 0.0\n",
       " 0.0\n",
       " 0.0\n",
       " 0.0\n",
       " 0.0\n",
       " 0.0\n",
       " 0.0\n",
       " 0.0"
      ]
     },
     "execution_count": 12,
     "metadata": {},
     "output_type": "execute_result"
    }
   ],
   "source": [
    "lambda = zeros(size(customers))"
   ]
  },
  {
   "cell_type": "markdown",
   "id": "bf8360a8",
   "metadata": {},
   "source": [
    "Agora podemos calcular o tamanho de passo para atualizar o multiplicador. Nesse exemplo, vamos fazer $\\theta_k = 1$ por simplicidade:"
   ]
  },
  {
   "cell_type": "code",
   "execution_count": null,
   "id": "3a53dca3",
   "metadata": {
    "collapsed": true
   },
   "outputs": [],
   "source": [
    "theta = 1.0"
   ]
  },
  {
   "cell_type": "markdown",
   "id": "31baa363",
   "metadata": {},
   "source": [
    "Agora nós calculamos o vetor onde o j-ésimo elemento é:\n",
    "$$\n",
    "1-\\sum_{i \\in \\mathcal{I}} x_{D i j}^k\n",
    "$$"
   ]
  },
  {
   "cell_type": "code",
   "execution_count": null,
   "id": "ca7a29c3",
   "metadata": {},
   "outputs": [],
   "source": [
    "residual = 1 .- transpose(sum(x_D, dims = 1))"
   ]
  },
  {
   "cell_type": "markdown",
   "id": "1468e1bd",
   "metadata": {},
   "source": [
    "Atualizando o multiplicador:"
   ]
  },
  {
   "cell_type": "code",
   "execution_count": null,
   "id": "4705a83a",
   "metadata": {
    "collapsed": true
   },
   "outputs": [],
   "source": [
    "t = theta * (Z_UB - Z_D) / sum(residual .^ 2)\n",
    "lambda = lambda + t * residual"
   ]
  },
  {
   "cell_type": "markdown",
   "id": "a617ea91",
   "metadata": {},
   "source": [
    "De forma geral, a cara do algoritmo deve seguir algo assim:"
   ]
  },
  {
   "cell_type": "code",
   "execution_count": null,
   "id": "9b713023",
   "metadata": {},
   "outputs": [],
   "source": [
    "for k=1:MAX_ITER\n",
    "  ...\n",
    "\n",
    "  if opt_gap < 0.000001\n",
    "    break\n",
    "  end\n",
    "end"
   ]
  },
  {
   "cell_type": "markdown",
   "id": "a28fb423",
   "metadata": {},
   "source": [
    "Ou seja, repetiremos todos esses procemos até que o gap de otimalidade seja menor do que um $\\epsilon$. O gap de otimalidade é dado pela diferença entre o melhor limite superior com o melhor limite inferior.\n",
    "\n",
    "Dentro do loop, nós fazemos o seguinte:\n",
    "- Obtemos um limite inferior resolvendo o subproblema lagrangeano\n",
    "- Depois com as locations abertas do subproblema, buscamos uma solução viável"
   ]
  },
  {
   "cell_type": "code",
   "execution_count": null,
   "id": "5710117f",
   "metadata": {
    "collapsed": true
   },
   "outputs": [],
   "source": [
    "Z_D, x_D, y = lowerBound(lambda, p)\n",
    "Z, x = upperBound(y)"
   ]
  },
  {
   "cell_type": "markdown",
   "id": "6905064b",
   "metadata": {},
   "source": [
    "Depois disso, atualizamos os melhores limites encontrados e guardamos a melhor solução"
   ]
  },
  {
   "cell_type": "code",
   "execution_count": null,
   "id": "7d2a56f0",
   "metadata": {},
   "outputs": [],
   "source": [
    "# Atualizando o upper bound\n",
    "if Z < Z_UB\n",
    "  Z_UB = Z\n",
    "  x_best = x\n",
    "  y_best = y\n",
    "end\n",
    "\n",
    "# Atualizando lower bound\n",
    "if Z_D > Z_LB\n",
    "  Z_LB = Z_D\n",
    "end\n"
   ]
  },
  {
   "cell_type": "markdown",
   "id": "5fe0ee5b",
   "metadata": {},
   "source": [
    "Juntando tudo em uma única função, teremos:"
   ]
  },
  {
   "cell_type": "code",
   "execution_count": 13,
   "id": "3a938c29",
   "metadata": {},
   "outputs": [
    {
     "data": {
      "text/plain": [
       "lagrangianRelaxation (generic function with 1 method)"
      ]
     },
     "execution_count": 13,
     "metadata": {},
     "output_type": "execute_result"
    }
   ],
   "source": [
    "function lagrangianRelaxation(p)\n",
    "    # Número máximo de iterações permitidas no algoritmo\n",
    "    MAX_ITER = 10000\n",
    "\n",
    "    # Definindo vetores vazios do tipo Float64 para os limites superiores e inferiores\n",
    "    UB = Array{Float64}(undef, 0) # Limite superior\n",
    "    LB = Array{Float64}(undef, 0) # Limite inferior\n",
    "\n",
    "    # Os melhores upper and lower bounds\n",
    "    Z_UB = Inf\n",
    "    Z_LB = -Inf\n",
    "\n",
    "    # A melhor solução viável encontrada\n",
    "    x_best = zeros(length(locations), length(customers))\n",
    "    y_best = zeros(length(locations))\n",
    "\n",
    "    # Inicializando multiplicadores de lagrange com zero do tamanho de clientes\n",
    "    lambda = zeros(size(customers))\n",
    "\n",
    "    for k = 1:MAX_ITER\n",
    "\n",
    "        # Obtendo limites inferiores e superiores\n",
    "        Z_D, x_D, y = lowerBound(lambda) # resolvendo o subproblema lagrangeano\n",
    "        Z, x = upperBound(y) # buscando uma solução viável\n",
    "\n",
    "        # Atualizando o upper bound\n",
    "        if Z < Z_UB\n",
    "            Z_UB = Z\n",
    "            x_best = x\n",
    "            y_best = y\n",
    "        end\n",
    "\n",
    "        # Atualizando o lower bound\n",
    "        if Z_D > Z_LB\n",
    "            Z_LB = Z_D\n",
    "        end\n",
    "\n",
    "        # Determinando o tamanho de passo e atualizando o multiplicador\n",
    "        theta = 1.0\n",
    "        residual = 1 .- transpose(sum(x_D, dims = 1))\n",
    "        t = theta * (Z_UB - Z_D) / sum(residual .^ 2)\n",
    "        lambda = lambda + t * residual\n",
    "\n",
    "        # Calculando o gap de otimizalidade (1a condição de parada)\n",
    "        opt_gap = (Z_UB - Z_LB) / Z_UB\n",
    "        if opt_gap < 0.000001\n",
    "            print(\"Saindo por otimalidade!\")\n",
    "            break\n",
    "        end\n",
    "\n",
    "    end\n",
    "\n",
    "    return Z_UB, x_best, y_best, UB, LB\n",
    "end"
   ]
  },
  {
   "cell_type": "markdown",
   "id": "babf8025",
   "metadata": {},
   "source": [
    "### Solução"
   ]
  },
  {
   "cell_type": "markdown",
   "id": "4c07f208",
   "metadata": {},
   "source": [
    "Primeiro, vamos resolver utilizando o solver:"
   ]
  },
  {
   "cell_type": "code",
   "execution_count": 14,
   "id": "260f529d",
   "metadata": {},
   "outputs": [
    {
     "data": {
      "text/plain": [
       "optimal (generic function with 1 method)"
      ]
     },
     "execution_count": 14,
     "metadata": {},
     "output_type": "execute_result"
    }
   ],
   "source": [
    "using JuMP, Gurobi\n",
    "\n",
    "function optimal(p)\n",
    "    m = Model(Gurobi.Optimizer)\n",
    "\n",
    "    @variable(m, x[i in locations, j in customers] >= 0)\n",
    "    @variable(m, y[i in locations], Bin)\n",
    "\n",
    "    @objective(m, Min, sum( d[j]*c[i,j]*x[i,j]\n",
    "                     for i in locations, j in customers) )\n",
    "\n",
    "    @constraint(m, [j in customers], sum( x[i,j] for i in locations) == 1)\n",
    "    @constraint(m, sum( y[i] for i in locations) == p)\n",
    "    @constraint(m, [i in locations, j in customers], x[i,j] <= y[i] )\n",
    "    \n",
    "    set_silent(m)\n",
    "    JuMP.optimize!(m)\n",
    "\n",
    "    Z_opt = JuMP.objective_value(m)\n",
    "    x_opt = JuMP.value.(x)\n",
    "    y_opt = JuMP.value.(y)\n",
    "\n",
    "    return Z_opt, x_opt, y_opt\n",
    "end"
   ]
  },
  {
   "cell_type": "code",
   "execution_count": 15,
   "id": "ac97e984",
   "metadata": {},
   "outputs": [
    {
     "name": "stdout",
     "output_type": "stream",
     "text": [
      "Set parameter Username\r\n",
      "Academic license - for non-commercial use only - expires 2023-03-09\r\n",
      "Solução ótima = 957.0\n"
     ]
    }
   ],
   "source": [
    "Z_opt, x_opt, y_opt = optimal(p)\n",
    "println(\"Solução ótima = \", Z_opt)"
   ]
  },
  {
   "cell_type": "code",
   "execution_count": 18,
   "id": "f431de2d",
   "metadata": {},
   "outputs": [
    {
     "name": "stdout",
     "output_type": "stream",
     "text": [
      "Saindo por otimalidade!\n",
      "Solução ótima = 957.0\n"
     ]
    }
   ],
   "source": [
    "Z_UB, x_best, y_best, UB, LB = lagrangianRelaxation(p)\n",
    "println(\"\\nSolução ótima = \", Z_UB)"
   ]
  },
  {
   "cell_type": "markdown",
   "id": "6f42975a",
   "metadata": {},
   "source": [
    "Outras condições de parada:"
   ]
  },
  {
   "cell_type": "code",
   "execution_count": null,
   "id": "e351a27b",
   "metadata": {},
   "outputs": [],
   "source": [
    "# Começar com theta grande e ir diminuindo a medida que não há melhora nos melhores limites. Parar se theta for muito pequeno.\n",
    "theta = 2\n",
    "improve = 0\n",
    "theta_min = 0.0001\n",
    "\n",
    "...\n",
    "\n",
    "if improve >= maxIter/20\n",
    "    theta = theta/2\n",
    "    improve = 0\n",
    "    if theta < theta_min\n",
    "        println(\"Parando por theta pequeno (iteração \", k, \")\")\n",
    "        break\n",
    "    end\n",
    "end"
   ]
  },
  {
   "cell_type": "code",
   "execution_count": null,
   "id": "01ce025e",
   "metadata": {},
   "outputs": [],
   "source": [
    "# Se o tamanho de passo for muito pequeno\n",
    "if t < theta_min\n",
    "    break\n",
    "end "
   ]
  }
 ],
 "metadata": {
  "kernelspec": {
   "display_name": "Julia 1.8.1",
   "language": "julia",
   "name": "julia-1.8"
  },
  "language_info": {
   "file_extension": ".jl",
   "mimetype": "application/julia",
   "name": "julia",
   "version": "1.8.1"
  }
 },
 "nbformat": 4,
 "nbformat_minor": 5
}
