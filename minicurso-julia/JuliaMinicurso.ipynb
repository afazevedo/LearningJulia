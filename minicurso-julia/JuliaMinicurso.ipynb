{
 "cells": [
  {
   "cell_type": "markdown",
   "source": [
    "# Mini Curso: Introdução a Otimização Combinatória utilizando a linguagem de programação Julia"
   ],
   "metadata": {}
  },
  {
   "cell_type": "markdown",
   "source": [
    "## Pacotes essenciais"
   ],
   "metadata": {}
  },
  {
   "cell_type": "code",
   "execution_count": null,
   "source": [
    "using Pkg \r\n",
    "Pkg.add(\"GLPK\")\r\n",
    "Pkg.add(\"JuMP\")\r\n",
    "Pkg.add(\"LinearAlgebra\")"
   ],
   "outputs": [],
   "metadata": {}
  },
  {
   "cell_type": "markdown",
   "source": [
    "## Básicos da linguagem"
   ],
   "metadata": {}
  },
  {
   "cell_type": "code",
   "execution_count": 13,
   "source": [
    "# Impressão na tela\r\n",
    "\r\n",
    "println(\"Olá mundo!\")"
   ],
   "outputs": [
    {
     "output_type": "stream",
     "name": "stdout",
     "text": [
      "Olá mundo!\n"
     ]
    }
   ],
   "metadata": {
    "ExecuteTime": {
     "end_time": "2021-04-19T12:52:45.974000-03:00",
     "start_time": "2021-04-19T15:52:45.972Z"
    }
   }
  },
  {
   "cell_type": "code",
   "execution_count": null,
   "source": [
    "println(\"Insira o primeiro valor: \")\r\n",
    "x = parse(Int64, readline())\r\n",
    "\r\n",
    "println(\"Insira o segundo valor: \")\r\n",
    "y = parse(Int64, readline())\r\n",
    "\r\n",
    "if x < y\r\n",
    "  println(x, \" é estritamente menor que \", y)\r\n",
    "elseif x > y\r\n",
    "  println(x, \" é estritamente maior que \", y)\r\n",
    "else\r\n",
    "  println(\" são iguais \")\r\n",
    "end"
   ],
   "outputs": [],
   "metadata": {
    "ExecuteTime": {
     "end_time": "2021-04-19T13:05:12.712000-03:00",
     "start_time": "2021-04-19T16:05:11.039Z"
    },
    "collapsed": true
   }
  },
  {
   "cell_type": "code",
   "execution_count": null,
   "source": [
    "#Como já se poderia esperar, podemos atribuir uma lista de valores a variáveis:\r\n",
    "frutas = [\"laranja\", \"melancia\", \"abacaxi\"]\r\n",
    "numeros = [42, 123]\r\n",
    "vazio = []\r\n",
    "println(frutas, \"\\n\", numeros, \"\\n\", vazio)"
   ],
   "outputs": [],
   "metadata": {
    "ExecuteTime": {
     "end_time": "2021-04-19T13:09:44.131000-03:00",
     "start_time": "2021-04-19T16:09:44.084Z"
    }
   }
  },
  {
   "cell_type": "code",
   "execution_count": null,
   "source": [
    "println(frutas[1]) #Lembre-se! A contagem começa do 1"
   ],
   "outputs": [],
   "metadata": {
    "ExecuteTime": {
     "end_time": "2021-04-19T13:09:57.662000-03:00",
     "start_time": "2021-04-19T16:09:57.660Z"
    }
   }
  },
  {
   "cell_type": "code",
   "execution_count": null,
   "source": [
    "#Agora suponha que queiramos criar uma array bidimensional, isto é, uma matriz\r\n",
    "matriz = [1 2 3; 2 3 4; 2 3 4]\r\n",
    "\r\n",
    "#Criamos uma matriz 3x3. Existem algumas funções que criam matrizes específicas, por exemplo:\r\n",
    "\r\n",
    "ones(3,4) #Cria uma matriz 3x4 de float64 de \"uns\"\r\n",
    "zeros(Int64, 5,5) #Cria uma matriz de valores inteiros de zeros 5x5\r\n",
    "rand(1:10, 2,3) #Cria uma matriz de valores aleatórios no intervalo de 1 a 10, 2x3\r\n"
   ],
   "outputs": [],
   "metadata": {
    "ExecuteTime": {
     "end_time": "2021-04-19T13:10:42.382000-03:00",
     "start_time": "2021-04-19T16:10:41.549Z"
    }
   }
  },
  {
   "cell_type": "code",
   "execution_count": null,
   "source": [
    "#=Repetição Simples (For)\r\n",
    "Esse tipo de repetição é usado para iterar em uma lista de elementos, ou itens de um array, etc.\r\n",
    "Iremos aqui ver algumas possibilidades de uso.\r\n",
    "=#\r\n",
    "\r\n",
    "for n in 1:4\r\n",
    "    println(n)\r\n",
    "end"
   ],
   "outputs": [],
   "metadata": {}
  },
  {
   "cell_type": "code",
   "execution_count": null,
   "source": [
    "#Podemos também variar também em cima de um array, como por exemplo:\r\n",
    "for i in [1, 5, 22]\r\n",
    "    println(i)\r\n",
    "end"
   ],
   "outputs": [],
   "metadata": {}
  },
  {
   "cell_type": "code",
   "execution_count": null,
   "source": [
    "#O próximo exemplo mostra como percorrer um array pelos índices\r\n",
    "\r\n",
    "lista = [1,5,22]\r\n",
    "for i in 1:length(lista)\r\n",
    "    println(lista[i])\r\n",
    "end"
   ],
   "outputs": [],
   "metadata": {}
  },
  {
   "cell_type": "code",
   "execution_count": 70,
   "source": [
    "notas = [5, 6, 7, 8, 7]\r\n",
    "println(\"A soma das notas é: \", soma)\r\n",
    "\r\n",
    "# soma = sum(notas)\r\n",
    "soma = sum(notas[i] for i in 1:length(notas))\r\n",
    "\r\n",
    "println(\"A média final é: \", soma/length(notas))"
   ],
   "outputs": [
    {
     "output_type": "stream",
     "name": "stdout",
     "text": [
      "A soma das notas é: 33\n",
      "A média final é: 6.6\n"
     ]
    }
   ],
   "metadata": {
    "ExecuteTime": {
     "end_time": "2021-04-19T13:14:00.760000-03:00",
     "start_time": "2021-04-19T16:14:00.700Z"
    }
   }
  },
  {
   "cell_type": "markdown",
   "source": [
    "## Resolvendo problemas de otimização: N-Rainhas"
   ],
   "metadata": {}
  },
  {
   "cell_type": "markdown",
   "source": [
    "<p align=\"center\">\r\n",
    "  <img src=\"images//n-rainhas.png\" />\r\n",
    "</p>\r\n",
    "\r\n"
   ],
   "metadata": {}
  },
  {
   "cell_type": "markdown",
   "source": [
    "![](nquee.png)"
   ],
   "metadata": {}
  },
  {
   "cell_type": "code",
   "execution_count": 71,
   "source": [
    "using GLPK\r\n",
    "using JuMP\r\n",
    "using LinearAlgebra\r\n",
    "\r\n",
    "# N-Queens\r\n",
    "N = 4\r\n",
    "\r\n",
    "model = Model(GLPK.Optimizer);"
   ],
   "outputs": [],
   "metadata": {}
  },
  {
   "cell_type": "markdown",
   "source": [
    "Variável $X_{ij} \\in \\{0,1\\}:$ 1 se uma rainha estiver na posição $(i,j)$, 0 caso contrário. "
   ],
   "metadata": {}
  },
  {
   "cell_type": "code",
   "execution_count": 72,
   "source": [
    "@variable(model, x[i=1:N, j=1:N], Bin)"
   ],
   "outputs": [
    {
     "output_type": "execute_result",
     "data": {
      "text/plain": [
       "4×4 Array{VariableRef,2}:\n",
       " x[1,1]  x[1,2]  x[1,3]  x[1,4]\n",
       " x[2,1]  x[2,2]  x[2,3]  x[2,4]\n",
       " x[3,1]  x[3,2]  x[3,3]  x[3,4]\n",
       " x[4,1]  x[4,2]  x[4,3]  x[4,4]"
      ]
     },
     "metadata": {},
     "execution_count": 72
    }
   ],
   "metadata": {}
  },
  {
   "cell_type": "markdown",
   "source": [
    "$$\\displaystyle \\textrm{ max } \\sum_{i = 1} ^{N} \\sum_{j=1}^N X_{ij}$$"
   ],
   "metadata": {}
  },
  {
   "cell_type": "code",
   "execution_count": 73,
   "source": [
    "@objective(model, Max, sum(x[i,j] for i in 1:N, j in 1:N))"
   ],
   "outputs": [
    {
     "output_type": "execute_result",
     "data": {
      "text/plain": [
       "x[1,1] + x[1,2] + x[1,3] + x[1,4] + x[2,1] + x[2,2] + x[2,3] + x[2,4] + x[3,1] + x[3,2] + x[3,3] + x[3,4] + x[4,1] + x[4,2] + x[4,3] + x[4,4]"
      ],
      "text/latex": [
       "$$ x_{1,1} + x_{1,2} + x_{1,3} + x_{1,4} + x_{2,1} + x_{2,2} + x_{2,3} + x_{2,4} + x_{3,1} + x_{3,2} + x_{3,3} + x_{3,4} + x_{4,1} + x_{4,2} + x_{4,3} + x_{4,4} $$"
      ]
     },
     "metadata": {},
     "execution_count": 73
    }
   ],
   "metadata": {}
  },
  {
   "cell_type": "markdown",
   "source": [
    "Só podemos ter exatamente uma rainha na horizontal\r\n",
    "$$\\displaystyle  \\sum_{i = 1}^{N} X_{ij} \\leq 1 \\qquad j = 1, \\dots, N$$ "
   ],
   "metadata": {}
  },
  {
   "cell_type": "code",
   "execution_count": 74,
   "source": [
    "@constraint(model, horizontal[j in 1:N], sum(x[i,j] for i in 1:N) <= 1)"
   ],
   "outputs": [
    {
     "output_type": "execute_result",
     "data": {
      "text/plain": [
       "4-element Array{ConstraintRef{Model,MathOptInterface.ConstraintIndex{MathOptInterface.ScalarAffineFunction{Float64},MathOptInterface.LessThan{Float64}},ScalarShape},1}:\n",
       " horizontal[1] : x[1,1] + x[2,1] + x[3,1] + x[4,1] <= 1.0\n",
       " horizontal[2] : x[1,2] + x[2,2] + x[3,2] + x[4,2] <= 1.0\n",
       " horizontal[3] : x[1,3] + x[2,3] + x[3,3] + x[4,3] <= 1.0\n",
       " horizontal[4] : x[1,4] + x[2,4] + x[3,4] + x[4,4] <= 1.0"
      ]
     },
     "metadata": {},
     "execution_count": 74
    }
   ],
   "metadata": {}
  },
  {
   "cell_type": "markdown",
   "source": [
    "Só podemos ter exatamente uma rainha na vertical\r\n",
    "$$\\displaystyle  \\sum_{j = 1}^{N} X_{ij} \\leq 1 \\qquad i = 1, \\dots, N$$ "
   ],
   "metadata": {}
  },
  {
   "cell_type": "code",
   "execution_count": 75,
   "source": [
    "@constraint(model, vertical[i in 1:N], sum(x[i,j] for j in 1:N) <= 1)"
   ],
   "outputs": [
    {
     "output_type": "execute_result",
     "data": {
      "text/plain": [
       "4-element Array{ConstraintRef{Model,MathOptInterface.ConstraintIndex{MathOptInterface.ScalarAffineFunction{Float64},MathOptInterface.LessThan{Float64}},ScalarShape},1}:\n",
       " vertical[1] : x[1,1] + x[1,2] + x[1,3] + x[1,4] <= 1.0\n",
       " vertical[2] : x[2,1] + x[2,2] + x[2,3] + x[2,4] <= 1.0\n",
       " vertical[3] : x[3,1] + x[3,2] + x[3,3] + x[3,4] <= 1.0\n",
       " vertical[4] : x[4,1] + x[4,2] + x[4,3] + x[4,4] <= 1.0"
      ]
     },
     "metadata": {},
     "execution_count": 75
    }
   ],
   "metadata": {}
  },
  {
   "cell_type": "markdown",
   "source": [
    "Só podemos ter exatamente uma rainha na diagonal positiva \r\n",
    "$$\\displaystyle  \\underbrace{\\sum_{i = 1}^{N} \\sum_{j = 1}^{N}}_{i - j = k}  X_{ij} \\leq 1 \\qquad k = -(N-2), \\dots, N-2 \\quad $$ "
   ],
   "metadata": {}
  },
  {
   "cell_type": "markdown",
   "source": [
    "<p align=\"center\">\r\n",
    "  <img src=\"images//diag-pos.jpg\" />\r\n",
    "</p>"
   ],
   "metadata": {}
  },
  {
   "cell_type": "code",
   "execution_count": 76,
   "source": [
    "@constraint(model, diag_pos[k in -(N-2):(N-2)], sum(x[i,j] for i in 1:N, j in 1:N if (i-j) == k) <= 1)"
   ],
   "outputs": [
    {
     "output_type": "execute_result",
     "data": {
      "text/plain": [
       "1-dimensional DenseAxisArray{ConstraintRef{Model,MathOptInterface.ConstraintIndex{MathOptInterface.ScalarAffineFunction{Float64},MathOptInterface.LessThan{Float64}},ScalarShape},1,...} with index sets:\n",
       "    Dimension 1, -2:2\n",
       "And data, a 5-element Array{ConstraintRef{Model,MathOptInterface.ConstraintIndex{MathOptInterface.ScalarAffineFunction{Float64},MathOptInterface.LessThan{Float64}},ScalarShape},1}:\n",
       " diag_pos[-2] : x[1,3] + x[2,4] <= 1.0\n",
       " diag_pos[-1] : x[1,2] + x[2,3] + x[3,4] <= 1.0\n",
       " diag_pos[0] : x[1,1] + x[2,2] + x[3,3] + x[4,4] <= 1.0\n",
       " diag_pos[1] : x[2,1] + x[3,2] + x[4,3] <= 1.0\n",
       " diag_pos[2] : x[3,1] + x[4,2] <= 1.0"
      ]
     },
     "metadata": {},
     "execution_count": 76
    }
   ],
   "metadata": {}
  },
  {
   "cell_type": "markdown",
   "source": [
    "Só podemos ter exatamente uma rainha na diagonal negativa\r\n",
    "\r\n",
    "$$\\displaystyle  \\underbrace{\\sum_{i = 1}^{N} \\sum_{j = 1}^{N}}_{i + j = k}  X_{ij} \\leq 1 \\qquad k = 3, \\dots, 2N-1 \\quad $$ "
   ],
   "metadata": {}
  },
  {
   "cell_type": "markdown",
   "source": [
    "<p align=\"center\">\r\n",
    "  <img src=\"images//diag-neg.jpg\" />\r\n",
    "</p>"
   ],
   "metadata": {}
  },
  {
   "cell_type": "code",
   "execution_count": 77,
   "source": [
    "@constraint(model, diag_neg[k in 3:2*(N-1)], sum(x[i,j] for i in 1:N, j in 1:N if (i + j) == k) <= 1)"
   ],
   "outputs": [
    {
     "output_type": "execute_result",
     "data": {
      "text/plain": [
       "1-dimensional DenseAxisArray{ConstraintRef{Model,MathOptInterface.ConstraintIndex{MathOptInterface.ScalarAffineFunction{Float64},MathOptInterface.LessThan{Float64}},ScalarShape},1,...} with index sets:\n",
       "    Dimension 1, 3:6\n",
       "And data, a 4-element Array{ConstraintRef{Model,MathOptInterface.ConstraintIndex{MathOptInterface.ScalarAffineFunction{Float64},MathOptInterface.LessThan{Float64}},ScalarShape},1}:\n",
       " diag_neg[3] : x[2,1] + x[1,2] <= 1.0\n",
       " diag_neg[4] : x[3,1] + x[2,2] + x[1,3] <= 1.0\n",
       " diag_neg[5] : x[4,1] + x[3,2] + x[2,3] + x[1,4] <= 1.0\n",
       " diag_neg[6] : x[4,2] + x[3,3] + x[2,4] <= 1.0"
      ]
     },
     "metadata": {},
     "execution_count": 77
    }
   ],
   "metadata": {}
  },
  {
   "cell_type": "code",
   "execution_count": 78,
   "source": [
    "optimize!(model)"
   ],
   "outputs": [],
   "metadata": {}
  },
  {
   "cell_type": "code",
   "execution_count": 79,
   "source": [
    "println(\"Número de rainhas: \", objective_value(model))\r\n",
    "solution = convert.(Int,value.(x))\r\n"
   ],
   "outputs": [
    {
     "output_type": "execute_result",
     "data": {
      "text/plain": [
       "4×4 Array{Int64,2}:\n",
       " 0  1  0  0\n",
       " 0  0  0  1\n",
       " 1  0  0  0\n",
       " 0  0  1  0"
      ]
     },
     "metadata": {},
     "execution_count": 79
    }
   ],
   "metadata": {}
  },
  {
   "cell_type": "markdown",
   "source": [
    "![](images\\\\sol-8-queens.png)"
   ],
   "metadata": {}
  },
  {
   "cell_type": "markdown",
   "source": [
    "## Resolvendo problemas de otimização: Problema de Atribuição"
   ],
   "metadata": {}
  },
  {
   "cell_type": "markdown",
   "source": [
    "- $n$ pessoas para executar $n$ tarefas distintas\r\n",
    "- Cada pessoa deve executar uma única tarefa\r\n",
    "- Algumas pessoas são mais aptas a executar certas tarefas.\r\n",
    "- $c_{ij}:$ custo estimado para o indivíduo $i$ executar a tarefa $j$\r\n",
    "  \r\n",
    "**Objetivo:** atribuir tarefas a pessoas, ao menor custo possível."
   ],
   "metadata": {}
  },
  {
   "cell_type": "code",
   "execution_count": 84,
   "source": [
    "c = [0 20 15 12 13\r\n",
    "23 0 23 13 17\r\n",
    "18 12 0 11 12\r\n",
    "23 32 12 0 22\r\n",
    "21 25 26 28 0]\r\n",
    "\r\n",
    "n = 5"
   ],
   "outputs": [
    {
     "output_type": "execute_result",
     "data": {
      "text/plain": [
       "5"
      ]
     },
     "metadata": {},
     "execution_count": 84
    }
   ],
   "metadata": {}
  },
  {
   "cell_type": "code",
   "execution_count": 85,
   "source": [
    "model = Model(GLPK.Optimizer)"
   ],
   "outputs": [
    {
     "output_type": "execute_result",
     "data": {
      "text/plain": [
       "A JuMP Model\n",
       "Feasibility problem with:\n",
       "Variables: 0\n",
       "Model mode: AUTOMATIC\n",
       "CachingOptimizer state: EMPTY_OPTIMIZER\n",
       "Solver name: GLPK"
      ],
      "text/latex": [
       "$$ \\begin{alignat*}{1}\\text{feasibility}\\\\\n",
       "\\text{Subject to} \\quad\\end{alignat*}\n",
       " $$"
      ]
     },
     "metadata": {},
     "execution_count": 85
    }
   ],
   "metadata": {}
  },
  {
   "cell_type": "markdown",
   "source": [
    "$\\displaystyle x_{ij} \\in \\{0,1\\}:$ atribuição da tarefa $j$ a pessoa $i$."
   ],
   "metadata": {}
  },
  {
   "cell_type": "code",
   "execution_count": 87,
   "source": [
    "@variable(model, x[i in 1:n, j in 1:n], Bin)"
   ],
   "outputs": [
    {
     "output_type": "execute_result",
     "data": {
      "text/plain": [
       "5×5 Array{VariableRef,2}:\n",
       " x[1,1]  x[1,2]  x[1,3]  x[1,4]  x[1,5]\n",
       " x[2,1]  x[2,2]  x[2,3]  x[2,4]  x[2,5]\n",
       " x[3,1]  x[3,2]  x[3,3]  x[3,4]  x[3,5]\n",
       " x[4,1]  x[4,2]  x[4,3]  x[4,4]  x[4,5]\n",
       " x[5,1]  x[5,2]  x[5,3]  x[5,4]  x[5,5]"
      ]
     },
     "metadata": {},
     "execution_count": 87
    }
   ],
   "metadata": {}
  },
  {
   "cell_type": "markdown",
   "source": [
    "O custo das atribuições deve ser minimizado:\r\n",
    "\r\n",
    "$$\\textrm{min } \\sum_{i=1}^n \\sum_{j=1}^n c_{ij}x_{ij}$$"
   ],
   "metadata": {}
  },
  {
   "cell_type": "code",
   "execution_count": 89,
   "source": [
    "@objective(model, Min, sum(c[i,j]*x[i,j] for i in 1:n, j in 1:n if i != j))"
   ],
   "outputs": [
    {
     "output_type": "execute_result",
     "data": {
      "text/plain": [
       "20 x[1,2] + 15 x[1,3] + 12 x[1,4] + 13 x[1,5] + 23 x[2,1] + 23 x[2,3] + 13 x[2,4] + 17 x[2,5] + 18 x[3,1] + 12 x[3,2] + 11 x[3,4] + 12 x[3,5] + 23 x[4,1] + 32 x[4,2] + 12 x[4,3] + 22 x[4,5] + 21 x[5,1] + 25 x[5,2] + 26 x[5,3] + 28 x[5,4]"
      ],
      "text/latex": [
       "$$ 20 x_{1,2} + 15 x_{1,3} + 12 x_{1,4} + 13 x_{1,5} + 23 x_{2,1} + 23 x_{2,3} + 13 x_{2,4} + 17 x_{2,5} + 18 x_{3,1} + 12 x_{3,2} + 11 x_{3,4} + 12 x_{3,5} + 23 x_{4,1} + 32 x_{4,2} + 12 x_{4,3} + 22 x_{4,5} + 21 x_{5,1} + 25 x_{5,2} + 26 x_{5,3} + 28 x_{5,4} $$"
      ]
     },
     "metadata": {},
     "execution_count": 89
    }
   ],
   "metadata": {}
  },
  {
   "cell_type": "markdown",
   "source": [
    "Cada pessoa deve efetuar uma única tarefa:\r\n",
    "$$\\sum_{j=1}^n x_{ij} = 1 \\quad \\forall i= 1, \\dots, n$$"
   ],
   "metadata": {}
  },
  {
   "cell_type": "code",
   "execution_count": 90,
   "source": [
    "#Restrições\r\n",
    "@constraint(model, pessoa[i in 1:n], sum(x[i,j] for j in 1:n if i != j) == 1)"
   ],
   "outputs": [
    {
     "output_type": "execute_result",
     "data": {
      "text/plain": [
       "5-element Array{ConstraintRef{Model,MathOptInterface.ConstraintIndex{MathOptInterface.ScalarAffineFunction{Float64},MathOptInterface.EqualTo{Float64}},ScalarShape},1}:\n",
       " pessoa[1] : x[1,2] + x[1,3] + x[1,4] + x[1,5] == 1.0\n",
       " pessoa[2] : x[2,1] + x[2,3] + x[2,4] + x[2,5] == 1.0\n",
       " pessoa[3] : x[3,1] + x[3,2] + x[3,4] + x[3,5] == 1.0\n",
       " pessoa[4] : x[4,1] + x[4,2] + x[4,3] + x[4,5] == 1.0\n",
       " pessoa[5] : x[5,1] + x[5,2] + x[5,3] + x[5,4] == 1.0"
      ]
     },
     "metadata": {},
     "execution_count": 90
    }
   ],
   "metadata": {}
  },
  {
   "cell_type": "markdown",
   "source": [
    "Cada tarefa será efetuada por uma única pessoa:\r\n",
    "$$\\sum_{i=1}^n x_{ij} = 1 \\quad \\forall j = 1, \\dots, n$$"
   ],
   "metadata": {}
  },
  {
   "cell_type": "code",
   "execution_count": 91,
   "source": [
    "@constraint(model, job[j in 1:n], sum(x[i,j] for i in 1:n if i!=j) == 1)"
   ],
   "outputs": [
    {
     "output_type": "execute_result",
     "data": {
      "text/plain": [
       "5-element Array{ConstraintRef{Model,MathOptInterface.ConstraintIndex{MathOptInterface.ScalarAffineFunction{Float64},MathOptInterface.EqualTo{Float64}},ScalarShape},1}:\n",
       " job[1] : x[2,1] + x[3,1] + x[4,1] + x[5,1] == 1.0\n",
       " job[2] : x[1,2] + x[3,2] + x[4,2] + x[5,2] == 1.0\n",
       " job[3] : x[1,3] + x[2,3] + x[4,3] + x[5,3] == 1.0\n",
       " job[4] : x[1,4] + x[2,4] + x[3,4] + x[5,4] == 1.0\n",
       " job[5] : x[1,5] + x[2,5] + x[3,5] + x[4,5] == 1.0"
      ]
     },
     "metadata": {},
     "execution_count": 91
    }
   ],
   "metadata": {}
  },
  {
   "cell_type": "code",
   "execution_count": 92,
   "source": [
    "optimize!(model)"
   ],
   "outputs": [],
   "metadata": {}
  },
  {
   "cell_type": "code",
   "execution_count": 96,
   "source": [
    "function print_solution()\r\n",
    "    for i in 1:n\r\n",
    "        for j in 1:n\r\n",
    "            if value(x[i,j]) == 1\r\n",
    "                println(\"Pessoa \", i, \" foi atribuída ao trabalho: \", j, \" com custo: \", c[i,j])\r\n",
    "            end\r\n",
    "        end\r\n",
    "    end\r\n",
    "    println(\"O custo ótimo foi: \", objective_value(model))\r\n",
    "end\r\n",
    "\r\n",
    "print_solution()"
   ],
   "outputs": [
    {
     "output_type": "stream",
     "name": "stdout",
     "text": [
      "Pessoa 1 foi atribuída ao trabalho: 5 com custo: 13\n",
      "Pessoa 2 foi atribuída ao trabalho: 4 com custo: 13\n",
      "Pessoa 3 foi atribuída ao trabalho: 2 com custo: 12\n",
      "Pessoa 4 foi atribuída ao trabalho: 3 com custo: 12\n",
      "Pessoa 5 foi atribuída ao trabalho: 1 com custo: 21\n",
      "O custo ótimo foi: 71.0\n"
     ]
    }
   ],
   "metadata": {}
  },
  {
   "cell_type": "markdown",
   "source": [
    "## Resolvendo problemas de otimização: Problema da Mochila 0-1"
   ],
   "metadata": {}
  },
  {
   "cell_type": "markdown",
   "source": [
    "### Agora é com você. Desafio!"
   ],
   "metadata": {}
  },
  {
   "cell_type": "markdown",
   "source": [
    "  - Temos uma mochila com uma capacidade máxima (peso máximo) dado por $W$\r\n",
    "  - Imagine que temos $n$ possíveis itens que podem entrar na mochila\r\n",
    "  - Cada item $i$ possui um peso $a_i$ específico e seu preço é $c_i$.\r\n",
    "\r\n",
    "**Objetivo: Selecionar um subconjunto de itens que dê o máximo retorno possível, isto é, que o custo total do que está dentro da mochila seja o maior possível!**"
   ],
   "metadata": {}
  },
  {
   "cell_type": "markdown",
   "source": [
    "**Variáveis**\r\n",
    "\r\n",
    "$x_i \\in \\{0,1\\}:$ pegar ou não o item $i$ para colocar na mochila"
   ],
   "metadata": {}
  },
  {
   "cell_type": "markdown",
   "source": [
    "**Função Objetivo**\r\n",
    "\r\n",
    "$$\\textrm{max } \\sum_{i=1}^n c_ix_i$$"
   ],
   "metadata": {}
  },
  {
   "cell_type": "markdown",
   "source": [
    "**Restrições**\r\n",
    "\r\n",
    "- Não é possível colocar mais itens do que a capacidade $W$ dada.\r\n",
    "\r\n",
    "$$\\sum_{i=1}^n a_ix_i \\leq W$$\r\n",
    "\r\n",
    "$$x_i \\in \\{0,1\\}$$"
   ],
   "metadata": {}
  },
  {
   "cell_type": "code",
   "execution_count": 24,
   "source": [
    "n = 5 # Número de itens \r\n",
    "W = 50 # Peso máximo que a mochila pode carregar\r\n",
    "\r\n",
    "a = [20 12 17 13 17] # Capacidade de cada item\r\n",
    "c = [30 11 20 18 17] # Custo de cada item "
   ],
   "outputs": [
    {
     "output_type": "execute_result",
     "data": {
      "text/plain": [
       "1×5 Array{Int64,2}:\n",
       " 30  11  20  18  17"
      ]
     },
     "metadata": {},
     "execution_count": 24
    }
   ],
   "metadata": {}
  }
 ],
 "metadata": {
  "kernelspec": {
   "display_name": "JuliaPro_v1.5.3-1 1.5.3",
   "language": "julia",
   "name": "juliapro_v1.5.3-1-1.5"
  },
  "language_info": {
   "file_extension": ".jl",
   "mimetype": "application/julia",
   "name": "julia",
   "version": "1.5.3"
  },
  "toc": {
   "base_numbering": 1,
   "nav_menu": {},
   "number_sections": true,
   "sideBar": true,
   "skip_h1_title": false,
   "title_cell": "Table of Contents",
   "title_sidebar": "Contents",
   "toc_cell": false,
   "toc_position": {},
   "toc_section_display": true,
   "toc_window_display": false
  }
 },
 "nbformat": 4,
 "nbformat_minor": 4
}